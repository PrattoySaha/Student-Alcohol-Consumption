{
 "cells": [
  {
   "cell_type": "code",
   "execution_count": 1,
   "metadata": {},
   "outputs": [],
   "source": [
    "# Importing necessary libraries\n",
    "import pandas as pd\n",
    "import numpy as np\n",
    "import matplotlib.pyplot as plt\n",
    "%matplotlib inline\n",
    "import seaborn as sns\n",
    "\n",
    "from sklearn.model_selection import train_test_split\n",
    "from sklearn.feature_selection import SelectKBest, f_classif\n",
    "from sklearn.preprocessing import MinMaxScaler\n",
    "from sklearn.neighbors import KNeighborsClassifier\n",
    "from sklearn import metrics\n",
    "from sklearn.linear_model import LogisticRegression\n",
    "from sklearn.model_selection import GridSearchCV\n",
    "from sklearn.tree import DecisionTreeClassifier "
   ]
  },
  {
   "cell_type": "code",
   "execution_count": 2,
   "metadata": {},
   "outputs": [],
   "source": [
    "# Loading dataset\n",
    "df = pd.read_csv('student-mat.csv')"
   ]
  },
  {
   "cell_type": "markdown",
   "metadata": {},
   "source": [
    "## Data Preparation- data cleaning and transformations"
   ]
  },
  {
   "cell_type": "code",
   "execution_count": 3,
   "metadata": {},
   "outputs": [
    {
     "name": "stdout",
     "output_type": "stream",
     "text": [
      "Rows and Columns : (395, 33) \n",
      "\n",
      "INFO:\n",
      "<class 'pandas.core.frame.DataFrame'>\n",
      "RangeIndex: 395 entries, 0 to 394\n",
      "Data columns (total 33 columns):\n",
      " #   Column      Non-Null Count  Dtype \n",
      "---  ------      --------------  ----- \n",
      " 0   school      395 non-null    object\n",
      " 1   sex         395 non-null    object\n",
      " 2   age         395 non-null    int64 \n",
      " 3   address     395 non-null    object\n",
      " 4   famsize     395 non-null    object\n",
      " 5   Pstatus     395 non-null    object\n",
      " 6   Medu        395 non-null    int64 \n",
      " 7   Fedu        395 non-null    int64 \n",
      " 8   Mjob        395 non-null    object\n",
      " 9   Fjob        395 non-null    object\n",
      " 10  reason      395 non-null    object\n",
      " 11  guardian    395 non-null    object\n",
      " 12  traveltime  395 non-null    int64 \n",
      " 13  studytime   395 non-null    int64 \n",
      " 14  failures    395 non-null    int64 \n",
      " 15  schoolsup   395 non-null    object\n",
      " 16  famsup      395 non-null    object\n",
      " 17  paid        395 non-null    object\n",
      " 18  activities  395 non-null    object\n",
      " 19  nursery     395 non-null    object\n",
      " 20  higher      395 non-null    object\n",
      " 21  internet    395 non-null    object\n",
      " 22  romantic    395 non-null    object\n",
      " 23  famrel      395 non-null    int64 \n",
      " 24  freetime    395 non-null    int64 \n",
      " 25  goout       395 non-null    int64 \n",
      " 26  Dalc        395 non-null    int64 \n",
      " 27  Walc        395 non-null    int64 \n",
      " 28  health      395 non-null    int64 \n",
      " 29  absences    395 non-null    int64 \n",
      " 30  G1          395 non-null    int64 \n",
      " 31  G2          395 non-null    int64 \n",
      " 32  G3          395 non-null    int64 \n",
      "dtypes: int64(16), object(17)\n",
      "memory usage: 102.0+ KB\n",
      "None \n",
      "\n",
      "Unique Values : \n",
      " school         2\n",
      "sex            2\n",
      "age            8\n",
      "address        2\n",
      "famsize        2\n",
      "Pstatus        2\n",
      "Medu           5\n",
      "Fedu           5\n",
      "Mjob           5\n",
      "Fjob           5\n",
      "reason         4\n",
      "guardian       3\n",
      "traveltime     4\n",
      "studytime      4\n",
      "failures       4\n",
      "schoolsup      2\n",
      "famsup         2\n",
      "paid           2\n",
      "activities     2\n",
      "nursery        2\n",
      "higher         2\n",
      "internet       2\n",
      "romantic       2\n",
      "famrel         5\n",
      "freetime       5\n",
      "goout          5\n",
      "Dalc           5\n",
      "Walc           5\n",
      "health         5\n",
      "absences      34\n",
      "G1            17\n",
      "G2            17\n",
      "G3            18\n",
      "dtype: int64 \n",
      "\n"
     ]
    }
   ],
   "source": [
    "#Rows tell you the number of obs and columns tell you the number of features\n",
    "print('Rows and Columns :', df.shape,'\\n' ) \n",
    "\n",
    "#Running info on the dataset to check on the any visible missing values and datatypes\n",
    "print('INFO:')\n",
    "print(df.info(), '\\n')\n",
    "\n",
    "# Checking for the number of unique values in each column in dataset\n",
    "print('Unique Values :','\\n', df.nunique(), '\\n')"
   ]
  },
  {
   "cell_type": "code",
   "execution_count": 4,
   "metadata": {},
   "outputs": [],
   "source": [
    "# Converting all binary non-numeric variables to numeric variables to allow for easy data processing\n",
    "\n",
    "df.loc[df['school']=='GP', 'school'] = 1\n",
    "df.loc[df['school']=='MS', 'school'] = 0\n",
    "\n",
    "df.loc[df['sex']=='F', 'sex'] = 1\n",
    "df.loc[df['sex']=='M', 'sex'] = 0\n",
    "\n",
    "df.loc[df['address']=='R', 'address'] = 1\n",
    "df.loc[df['address']=='U', 'address'] = 0\n",
    "\n",
    "df.loc[df['famsize']=='GT3', 'famsize'] = 1\n",
    "df.loc[df['famsize']=='LE3', 'famsize'] = 0\n",
    "\n",
    "df.loc[df['Pstatus']=='T', 'Pstatus'] = 1\n",
    "df.loc[df['Pstatus']=='A', 'Pstatus'] = 0\n",
    "\n",
    "df.loc[df['schoolsup']=='yes', 'schoolsup'] = 1\n",
    "df.loc[df['schoolsup']=='no', 'schoolsup'] = 0\n",
    "\n",
    "df.loc[df['famsup']=='yes', 'famsup'] = 1\n",
    "df.loc[df['famsup']=='no', 'famsup'] = 0\n",
    "\n",
    "df.loc[df['paid']=='yes', 'paid'] = 1\n",
    "df.loc[df['paid']=='no', 'paid'] = 0\n",
    "\n",
    "df.loc[df['activities']=='yes', 'activities'] = 1\n",
    "df.loc[df['activities']=='no', 'activities'] = 0\n",
    "\n",
    "df.loc[df['nursery']=='yes', 'nursery'] = 1\n",
    "df.loc[df['nursery']=='no', 'nursery'] = 0\n",
    "\n",
    "df.loc[df['higher']=='yes', 'higher'] = 1\n",
    "df.loc[df['higher']=='no', 'higher'] = 0\n",
    "\n",
    "df.loc[df['internet']=='yes', 'internet'] = 1\n",
    "df.loc[df['internet']=='no', 'internet'] = 0\n",
    "\n",
    "df.loc[df['romantic']=='yes', 'romantic'] = 1\n",
    "df.loc[df['romantic']=='no', 'romantic'] = 0"
   ]
  },
  {
   "cell_type": "code",
   "execution_count": 5,
   "metadata": {},
   "outputs": [],
   "source": [
    "# Converting all nominal non-numeric variables to numeric variables to allow for easy data processing\n",
    "\n",
    "conditions=[df['Mjob'] == 'at_home',\n",
    "          df['Mjob'] == 'services',\n",
    "          df['Mjob'] == 'teacher',\n",
    "          df['Mjob'] == 'health',\n",
    "           df['Mjob']== 'other']\n",
    "choices = [1,2,3,4,5]\n",
    "df['Mjob'] = np.select(conditions, choices)\n",
    "\n",
    "conditions=[df['Fjob'] == 'at_home',\n",
    "          df['Fjob'] == 'services',\n",
    "          df['Fjob'] == 'teacher',\n",
    "          df['Fjob'] == 'health',\n",
    "           df['Fjob']== 'other']\n",
    "choices = [1,2,3,4,5]\n",
    "df['Fjob'] = np.select(conditions, choices)\n",
    "\n",
    "conditions=[df['reason'] == 'home',\n",
    "          df['reason'] == 'reputation',\n",
    "          df['reason'] == 'course',\n",
    "           df['reason']== 'other']\n",
    "choices = [1,2,3,4]\n",
    "df['reason'] = np.select(conditions, choices)\n",
    "\n",
    "conditions=[df['guardian'] == 'father',\n",
    "          df['guardian'] == 'mother',\n",
    "          df['guardian'] == 'other']\n",
    "choices = [1,2,3]\n",
    "df['guardian'] = np.select(conditions, choices)"
   ]
  },
  {
   "cell_type": "code",
   "execution_count": 6,
   "metadata": {},
   "outputs": [
    {
     "data": {
      "text/plain": [
       "school        object\n",
       "sex           object\n",
       "age            int64\n",
       "address       object\n",
       "famsize       object\n",
       "Pstatus       object\n",
       "Medu           int64\n",
       "Fedu           int64\n",
       "Mjob           int32\n",
       "Fjob           int32\n",
       "reason         int32\n",
       "guardian       int32\n",
       "traveltime     int64\n",
       "studytime      int64\n",
       "failures       int64\n",
       "schoolsup     object\n",
       "famsup        object\n",
       "paid          object\n",
       "activities    object\n",
       "nursery       object\n",
       "higher        object\n",
       "internet      object\n",
       "romantic      object\n",
       "famrel         int64\n",
       "freetime       int64\n",
       "goout          int64\n",
       "Dalc           int64\n",
       "Walc           int64\n",
       "health         int64\n",
       "absences       int64\n",
       "G1             int64\n",
       "G2             int64\n",
       "G3             int64\n",
       "dtype: object"
      ]
     },
     "execution_count": 6,
     "metadata": {},
     "output_type": "execute_result"
    }
   ],
   "source": [
    "df.dtypes"
   ]
  },
  {
   "cell_type": "code",
   "execution_count": 7,
   "metadata": {},
   "outputs": [
    {
     "data": {
      "text/plain": [
       "2     150\n",
       "3      66\n",
       "4      60\n",
       "5      45\n",
       "6      35\n",
       "7      17\n",
       "10      9\n",
       "8       9\n",
       "9       4\n",
       "Name: week_alc, dtype: int64"
      ]
     },
     "execution_count": 7,
     "metadata": {},
     "output_type": "execute_result"
    }
   ],
   "source": [
    "df['week_alc']= df['Dalc']+df['Walc']\n",
    "\n",
    "df['week_alc'].value_counts()"
   ]
  },
  {
   "cell_type": "code",
   "execution_count": 8,
   "metadata": {},
   "outputs": [
    {
     "name": "stdout",
     "output_type": "stream",
     "text": [
      "0    321\n",
      "1     74\n",
      "Name: alc, dtype: int64\n",
      "0    0.812658\n",
      "1    0.187342\n",
      "Name: alc, dtype: float64\n"
     ]
    },
    {
     "data": {
      "text/plain": [
       "Text(0.5, 1.0, 'Distribution of Heavy Drinkers VS Light drinkers')"
      ]
     },
     "execution_count": 8,
     "metadata": {},
     "output_type": "execute_result"
    },
    {
     "data": {
      "image/png": "[encoded data removed]",
      "text/plain": [
       "<Figure size 360x360 with 1 Axes>"
      ]
     },
     "metadata": {
      "needs_background": "light"
     },
     "output_type": "display_data"
    }
   ],
   "source": [
    "df['alc'] = [0 if x <= 5 else 1 for x in df['week_alc']]\n",
    "        \n",
    "print(df['alc'].value_counts())\n",
    "print(df['alc'].value_counts(normalize = True))\n",
    "\n",
    "sns.catplot(x=\"alc\", kind=\"count\", palette=\"ch:.25\", data=df)\n",
    "plt.title('Distribution of Heavy Drinkers VS Light drinkers')"
   ]
  },
  {
   "cell_type": "code",
   "execution_count": 9,
   "metadata": {},
   "outputs": [
    {
     "data": {
      "text/plain": [
       "school        False\n",
       "sex           False\n",
       "age           False\n",
       "address       False\n",
       "famsize       False\n",
       "Pstatus       False\n",
       "Medu          False\n",
       "Fedu          False\n",
       "Mjob          False\n",
       "Fjob          False\n",
       "reason        False\n",
       "guardian      False\n",
       "traveltime    False\n",
       "studytime     False\n",
       "failures      False\n",
       "schoolsup     False\n",
       "famsup        False\n",
       "paid          False\n",
       "activities    False\n",
       "nursery       False\n",
       "higher        False\n",
       "internet      False\n",
       "romantic      False\n",
       "famrel        False\n",
       "freetime      False\n",
       "goout         False\n",
       "Dalc          False\n",
       "Walc          False\n",
       "health        False\n",
       "absences      False\n",
       "G1            False\n",
       "G2            False\n",
       "G3            False\n",
       "week_alc      False\n",
       "alc           False\n",
       "dtype: bool"
      ]
     },
     "execution_count": 9,
     "metadata": {},
     "output_type": "execute_result"
    }
   ],
   "source": [
    "# checking for Nan values\n",
    "df.isna().any()"
   ]
  },
  {
   "cell_type": "code",
   "execution_count": 10,
   "metadata": {},
   "outputs": [
    {
     "data": {
      "text/plain": [
       "247    22\n",
       "Name: age, dtype: int64"
      ]
     },
     "execution_count": 10,
     "metadata": {},
     "output_type": "execute_result"
    }
   ],
   "source": [
    "df[df['age']== 22]['age']"
   ]
  },
  {
   "cell_type": "code",
   "execution_count": 11,
   "metadata": {
    "scrolled": true
   },
   "outputs": [
    {
     "data": {
      "text/plain": [
       "247    22\n",
       "Name: age, dtype: int64"
      ]
     },
     "execution_count": 11,
     "metadata": {},
     "output_type": "execute_result"
    }
   ],
   "source": [
    "df.drop(labels = 279, inplace=True) #dropping age outlier\n",
    "df[df['age']== 22]['age']# checking to see if the drop was successful"
   ]
  },
  {
   "cell_type": "code",
   "execution_count": 12,
   "metadata": {},
   "outputs": [
    {
     "data": {
      "text/plain": [
       "31"
      ]
     },
     "execution_count": 12,
     "metadata": {},
     "output_type": "execute_result"
    }
   ],
   "source": [
    "X_df = df.drop(columns = ['Dalc', 'Walc', 'week_alc', 'alc'], axis = 1) # grabs everything else but 'default column'\n",
    "y = df['alc']\n",
    "orig_feats = list(X_df.columns)\n",
    "len(orig_feats)"
   ]
  },
  {
   "cell_type": "markdown",
   "metadata": {},
   "source": [
    "Feature quantifying family stability "
   ]
  },
  {
   "cell_type": "code",
   "execution_count": 13,
   "metadata": {},
   "outputs": [],
   "source": [
    "df['stability'] = df['famrel'] * df['famsize']"
   ]
  },
  {
   "cell_type": "code",
   "execution_count": 14,
   "metadata": {},
   "outputs": [
    {
     "name": "stdout",
     "output_type": "stream",
     "text": [
      "Descriptive Statistics : \n",
      " count     394\n",
      "unique      6\n",
      "top         4\n",
      "freq      138\n",
      "Name: stability, dtype: int64\n"
     ]
    },
    {
     "ename": "AttributeError",
     "evalue": "'float' object has no attribute 'shape'",
     "output_type": "error",
     "traceback": [
      "\u001b[1;31m---------------------------------------------------------------------------\u001b[0m",
      "\u001b[1;31mAttributeError\u001b[0m                            Traceback (most recent call last)",
      "\u001b[1;32m<ipython-input-14-5c5ee1b9499c>\u001b[0m in \u001b[0;36m<module>\u001b[1;34m\u001b[0m\n\u001b[0;32m      1\u001b[0m \u001b[0mprint\u001b[0m\u001b[1;33m(\u001b[0m\u001b[1;34m\"Descriptive Statistics :\"\u001b[0m\u001b[1;33m,\u001b[0m \u001b[1;34m'\\n'\u001b[0m\u001b[1;33m,\u001b[0m \u001b[0mdf\u001b[0m\u001b[1;33m[\u001b[0m\u001b[1;34m'stability'\u001b[0m\u001b[1;33m]\u001b[0m\u001b[1;33m.\u001b[0m\u001b[0mdescribe\u001b[0m\u001b[1;33m(\u001b[0m\u001b[1;33m)\u001b[0m\u001b[1;33m)\u001b[0m\u001b[1;33m\u001b[0m\u001b[1;33m\u001b[0m\u001b[0m\n\u001b[1;32m----> 2\u001b[1;33m \u001b[0mprint\u001b[0m\u001b[1;33m(\u001b[0m\u001b[1;34m\"Correlation with target var 'alc consumption' :\"\u001b[0m\u001b[1;33m,\u001b[0m \u001b[1;34m'\\n'\u001b[0m\u001b[1;33m,\u001b[0m \u001b[0mdf\u001b[0m\u001b[1;33m[\u001b[0m\u001b[1;34m'stability'\u001b[0m\u001b[1;33m]\u001b[0m\u001b[1;33m.\u001b[0m\u001b[0mcorr\u001b[0m\u001b[1;33m(\u001b[0m\u001b[0mdf\u001b[0m\u001b[1;33m[\u001b[0m\u001b[1;34m'alc'\u001b[0m\u001b[1;33m]\u001b[0m\u001b[1;33m)\u001b[0m\u001b[1;33m)\u001b[0m\u001b[1;33m\u001b[0m\u001b[1;33m\u001b[0m\u001b[0m\n\u001b[0m\u001b[0;32m      3\u001b[0m \u001b[0mprint\u001b[0m\u001b[1;33m(\u001b[0m\u001b[1;34m\"percentage of data distrib :\"\u001b[0m\u001b[1;33m,\u001b[0m \u001b[1;34m'\\n'\u001b[0m\u001b[1;33m,\u001b[0m \u001b[0mdf\u001b[0m\u001b[1;33m.\u001b[0m\u001b[0mstability\u001b[0m\u001b[1;33m.\u001b[0m\u001b[0mvalue_counts\u001b[0m\u001b[1;33m(\u001b[0m\u001b[0mnormalize\u001b[0m\u001b[1;33m=\u001b[0m\u001b[1;32mTrue\u001b[0m\u001b[1;33m)\u001b[0m\u001b[1;33m)\u001b[0m\u001b[1;33m\u001b[0m\u001b[1;33m\u001b[0m\u001b[0m\n\u001b[0;32m      4\u001b[0m \u001b[1;33m\u001b[0m\u001b[0m\n\u001b[0;32m      5\u001b[0m \u001b[0mfig\u001b[0m\u001b[1;33m,\u001b[0m \u001b[0max\u001b[0m \u001b[1;33m=\u001b[0m \u001b[0mplt\u001b[0m\u001b[1;33m.\u001b[0m\u001b[0msubplots\u001b[0m\u001b[1;33m(\u001b[0m\u001b[1;36m1\u001b[0m\u001b[1;33m,\u001b[0m \u001b[1;36m2\u001b[0m\u001b[1;33m,\u001b[0m \u001b[0mfigsize\u001b[0m\u001b[1;33m=\u001b[0m \u001b[1;33m(\u001b[0m\u001b[1;36m10\u001b[0m\u001b[1;33m,\u001b[0m\u001b[1;36m6\u001b[0m\u001b[1;33m)\u001b[0m\u001b[1;33m)\u001b[0m\u001b[1;33m\u001b[0m\u001b[1;33m\u001b[0m\u001b[0m\n",
      "\u001b[1;32mC:\\ProgramData\\Anaconda3\\lib\\site-packages\\pandas\\core\\series.py\u001b[0m in \u001b[0;36mcorr\u001b[1;34m(self, other, method, min_periods)\u001b[0m\n\u001b[0;32m   2319\u001b[0m \u001b[1;33m\u001b[0m\u001b[0m\n\u001b[0;32m   2320\u001b[0m         \u001b[1;32mif\u001b[0m \u001b[0mmethod\u001b[0m \u001b[1;32min\u001b[0m \u001b[1;33m[\u001b[0m\u001b[1;34m\"pearson\"\u001b[0m\u001b[1;33m,\u001b[0m \u001b[1;34m\"spearman\"\u001b[0m\u001b[1;33m,\u001b[0m \u001b[1;34m\"kendall\"\u001b[0m\u001b[1;33m]\u001b[0m \u001b[1;32mor\u001b[0m \u001b[0mcallable\u001b[0m\u001b[1;33m(\u001b[0m\u001b[0mmethod\u001b[0m\u001b[1;33m)\u001b[0m\u001b[1;33m:\u001b[0m\u001b[1;33m\u001b[0m\u001b[1;33m\u001b[0m\u001b[0m\n\u001b[1;32m-> 2321\u001b[1;33m             return nanops.nancorr(\n\u001b[0m\u001b[0;32m   2322\u001b[0m                 \u001b[0mthis\u001b[0m\u001b[1;33m.\u001b[0m\u001b[0mvalues\u001b[0m\u001b[1;33m,\u001b[0m \u001b[0mother\u001b[0m\u001b[1;33m.\u001b[0m\u001b[0mvalues\u001b[0m\u001b[1;33m,\u001b[0m \u001b[0mmethod\u001b[0m\u001b[1;33m=\u001b[0m\u001b[0mmethod\u001b[0m\u001b[1;33m,\u001b[0m \u001b[0mmin_periods\u001b[0m\u001b[1;33m=\u001b[0m\u001b[0mmin_periods\u001b[0m\u001b[1;33m\u001b[0m\u001b[1;33m\u001b[0m\u001b[0m\n\u001b[0;32m   2323\u001b[0m             )\n",
      "\u001b[1;32mC:\\ProgramData\\Anaconda3\\lib\\site-packages\\pandas\\core\\nanops.py\u001b[0m in \u001b[0;36m_f\u001b[1;34m(*args, **kwargs)\u001b[0m\n\u001b[0;32m     69\u001b[0m             \u001b[1;32mtry\u001b[0m\u001b[1;33m:\u001b[0m\u001b[1;33m\u001b[0m\u001b[1;33m\u001b[0m\u001b[0m\n\u001b[0;32m     70\u001b[0m                 \u001b[1;32mwith\u001b[0m \u001b[0mnp\u001b[0m\u001b[1;33m.\u001b[0m\u001b[0merrstate\u001b[0m\u001b[1;33m(\u001b[0m\u001b[0minvalid\u001b[0m\u001b[1;33m=\u001b[0m\u001b[1;34m\"ignore\"\u001b[0m\u001b[1;33m)\u001b[0m\u001b[1;33m:\u001b[0m\u001b[1;33m\u001b[0m\u001b[1;33m\u001b[0m\u001b[0m\n\u001b[1;32m---> 71\u001b[1;33m                     \u001b[1;32mreturn\u001b[0m \u001b[0mf\u001b[0m\u001b[1;33m(\u001b[0m\u001b[1;33m*\u001b[0m\u001b[0margs\u001b[0m\u001b[1;33m,\u001b[0m \u001b[1;33m**\u001b[0m\u001b[0mkwargs\u001b[0m\u001b[1;33m)\u001b[0m\u001b[1;33m\u001b[0m\u001b[1;33m\u001b[0m\u001b[0m\n\u001b[0m\u001b[0;32m     72\u001b[0m             \u001b[1;32mexcept\u001b[0m \u001b[0mValueError\u001b[0m \u001b[1;32mas\u001b[0m \u001b[0me\u001b[0m\u001b[1;33m:\u001b[0m\u001b[1;33m\u001b[0m\u001b[1;33m\u001b[0m\u001b[0m\n\u001b[0;32m     73\u001b[0m                 \u001b[1;31m# we want to transform an object array\u001b[0m\u001b[1;33m\u001b[0m\u001b[1;33m\u001b[0m\u001b[1;33m\u001b[0m\u001b[0m\n",
      "\u001b[1;32mC:\\ProgramData\\Anaconda3\\lib\\site-packages\\pandas\\core\\nanops.py\u001b[0m in \u001b[0;36mnancorr\u001b[1;34m(a, b, method, min_periods)\u001b[0m\n\u001b[0;32m   1350\u001b[0m \u001b[1;33m\u001b[0m\u001b[0m\n\u001b[0;32m   1351\u001b[0m     \u001b[0mf\u001b[0m \u001b[1;33m=\u001b[0m \u001b[0mget_corr_func\u001b[0m\u001b[1;33m(\u001b[0m\u001b[0mmethod\u001b[0m\u001b[1;33m)\u001b[0m\u001b[1;33m\u001b[0m\u001b[1;33m\u001b[0m\u001b[0m\n\u001b[1;32m-> 1352\u001b[1;33m     \u001b[1;32mreturn\u001b[0m \u001b[0mf\u001b[0m\u001b[1;33m(\u001b[0m\u001b[0ma\u001b[0m\u001b[1;33m,\u001b[0m \u001b[0mb\u001b[0m\u001b[1;33m)\u001b[0m\u001b[1;33m\u001b[0m\u001b[1;33m\u001b[0m\u001b[0m\n\u001b[0m\u001b[0;32m   1353\u001b[0m \u001b[1;33m\u001b[0m\u001b[0m\n\u001b[0;32m   1354\u001b[0m \u001b[1;33m\u001b[0m\u001b[0m\n",
      "\u001b[1;32mC:\\ProgramData\\Anaconda3\\lib\\site-packages\\pandas\\core\\nanops.py\u001b[0m in \u001b[0;36mfunc\u001b[1;34m(a, b)\u001b[0m\n\u001b[0;32m   1371\u001b[0m \u001b[1;33m\u001b[0m\u001b[0m\n\u001b[0;32m   1372\u001b[0m         \u001b[1;32mdef\u001b[0m \u001b[0mfunc\u001b[0m\u001b[1;33m(\u001b[0m\u001b[0ma\u001b[0m\u001b[1;33m,\u001b[0m \u001b[0mb\u001b[0m\u001b[1;33m)\u001b[0m\u001b[1;33m:\u001b[0m\u001b[1;33m\u001b[0m\u001b[1;33m\u001b[0m\u001b[0m\n\u001b[1;32m-> 1373\u001b[1;33m             \u001b[1;32mreturn\u001b[0m \u001b[0mnp\u001b[0m\u001b[1;33m.\u001b[0m\u001b[0mcorrcoef\u001b[0m\u001b[1;33m(\u001b[0m\u001b[0ma\u001b[0m\u001b[1;33m,\u001b[0m \u001b[0mb\u001b[0m\u001b[1;33m)\u001b[0m\u001b[1;33m[\u001b[0m\u001b[1;36m0\u001b[0m\u001b[1;33m,\u001b[0m \u001b[1;36m1\u001b[0m\u001b[1;33m]\u001b[0m\u001b[1;33m\u001b[0m\u001b[1;33m\u001b[0m\u001b[0m\n\u001b[0m\u001b[0;32m   1374\u001b[0m \u001b[1;33m\u001b[0m\u001b[0m\n\u001b[0;32m   1375\u001b[0m         \u001b[1;32mreturn\u001b[0m \u001b[0mfunc\u001b[0m\u001b[1;33m\u001b[0m\u001b[1;33m\u001b[0m\u001b[0m\n",
      "\u001b[1;32m<__array_function__ internals>\u001b[0m in \u001b[0;36mcorrcoef\u001b[1;34m(*args, **kwargs)\u001b[0m\n",
      "\u001b[1;32mC:\\ProgramData\\Anaconda3\\lib\\site-packages\\numpy\\lib\\function_base.py\u001b[0m in \u001b[0;36mcorrcoef\u001b[1;34m(x, y, rowvar, bias, ddof)\u001b[0m\n\u001b[0;32m   2549\u001b[0m         warnings.warn('bias and ddof have no effect and are deprecated',\n\u001b[0;32m   2550\u001b[0m                       DeprecationWarning, stacklevel=3)\n\u001b[1;32m-> 2551\u001b[1;33m     \u001b[0mc\u001b[0m \u001b[1;33m=\u001b[0m \u001b[0mcov\u001b[0m\u001b[1;33m(\u001b[0m\u001b[0mx\u001b[0m\u001b[1;33m,\u001b[0m \u001b[0my\u001b[0m\u001b[1;33m,\u001b[0m \u001b[0mrowvar\u001b[0m\u001b[1;33m)\u001b[0m\u001b[1;33m\u001b[0m\u001b[1;33m\u001b[0m\u001b[0m\n\u001b[0m\u001b[0;32m   2552\u001b[0m     \u001b[1;32mtry\u001b[0m\u001b[1;33m:\u001b[0m\u001b[1;33m\u001b[0m\u001b[1;33m\u001b[0m\u001b[0m\n\u001b[0;32m   2553\u001b[0m         \u001b[0md\u001b[0m \u001b[1;33m=\u001b[0m \u001b[0mdiag\u001b[0m\u001b[1;33m(\u001b[0m\u001b[0mc\u001b[0m\u001b[1;33m)\u001b[0m\u001b[1;33m\u001b[0m\u001b[1;33m\u001b[0m\u001b[0m\n",
      "\u001b[1;32m<__array_function__ internals>\u001b[0m in \u001b[0;36mcov\u001b[1;34m(*args, **kwargs)\u001b[0m\n",
      "\u001b[1;32mC:\\ProgramData\\Anaconda3\\lib\\site-packages\\numpy\\lib\\function_base.py\u001b[0m in \u001b[0;36mcov\u001b[1;34m(m, y, rowvar, bias, ddof, fweights, aweights)\u001b[0m\n\u001b[0;32m   2454\u001b[0m             \u001b[0mw\u001b[0m \u001b[1;33m*=\u001b[0m \u001b[0maweights\u001b[0m\u001b[1;33m\u001b[0m\u001b[1;33m\u001b[0m\u001b[0m\n\u001b[0;32m   2455\u001b[0m \u001b[1;33m\u001b[0m\u001b[0m\n\u001b[1;32m-> 2456\u001b[1;33m     \u001b[0mavg\u001b[0m\u001b[1;33m,\u001b[0m \u001b[0mw_sum\u001b[0m \u001b[1;33m=\u001b[0m \u001b[0maverage\u001b[0m\u001b[1;33m(\u001b[0m\u001b[0mX\u001b[0m\u001b[1;33m,\u001b[0m \u001b[0maxis\u001b[0m\u001b[1;33m=\u001b[0m\u001b[1;36m1\u001b[0m\u001b[1;33m,\u001b[0m \u001b[0mweights\u001b[0m\u001b[1;33m=\u001b[0m\u001b[0mw\u001b[0m\u001b[1;33m,\u001b[0m \u001b[0mreturned\u001b[0m\u001b[1;33m=\u001b[0m\u001b[1;32mTrue\u001b[0m\u001b[1;33m)\u001b[0m\u001b[1;33m\u001b[0m\u001b[1;33m\u001b[0m\u001b[0m\n\u001b[0m\u001b[0;32m   2457\u001b[0m     \u001b[0mw_sum\u001b[0m \u001b[1;33m=\u001b[0m \u001b[0mw_sum\u001b[0m\u001b[1;33m[\u001b[0m\u001b[1;36m0\u001b[0m\u001b[1;33m]\u001b[0m\u001b[1;33m\u001b[0m\u001b[1;33m\u001b[0m\u001b[0m\n\u001b[0;32m   2458\u001b[0m \u001b[1;33m\u001b[0m\u001b[0m\n",
      "\u001b[1;32m<__array_function__ internals>\u001b[0m in \u001b[0;36maverage\u001b[1;34m(*args, **kwargs)\u001b[0m\n",
      "\u001b[1;32mC:\\ProgramData\\Anaconda3\\lib\\site-packages\\numpy\\lib\\function_base.py\u001b[0m in \u001b[0;36maverage\u001b[1;34m(a, axis, weights, returned)\u001b[0m\n\u001b[0;32m    413\u001b[0m \u001b[1;33m\u001b[0m\u001b[0m\n\u001b[0;32m    414\u001b[0m     \u001b[1;32mif\u001b[0m \u001b[0mreturned\u001b[0m\u001b[1;33m:\u001b[0m\u001b[1;33m\u001b[0m\u001b[1;33m\u001b[0m\u001b[0m\n\u001b[1;32m--> 415\u001b[1;33m         \u001b[1;32mif\u001b[0m \u001b[0mscl\u001b[0m\u001b[1;33m.\u001b[0m\u001b[0mshape\u001b[0m \u001b[1;33m!=\u001b[0m \u001b[0mavg\u001b[0m\u001b[1;33m.\u001b[0m\u001b[0mshape\u001b[0m\u001b[1;33m:\u001b[0m\u001b[1;33m\u001b[0m\u001b[1;33m\u001b[0m\u001b[0m\n\u001b[0m\u001b[0;32m    416\u001b[0m             \u001b[0mscl\u001b[0m \u001b[1;33m=\u001b[0m \u001b[0mnp\u001b[0m\u001b[1;33m.\u001b[0m\u001b[0mbroadcast_to\u001b[0m\u001b[1;33m(\u001b[0m\u001b[0mscl\u001b[0m\u001b[1;33m,\u001b[0m \u001b[0mavg\u001b[0m\u001b[1;33m.\u001b[0m\u001b[0mshape\u001b[0m\u001b[1;33m)\u001b[0m\u001b[1;33m.\u001b[0m\u001b[0mcopy\u001b[0m\u001b[1;33m(\u001b[0m\u001b[1;33m)\u001b[0m\u001b[1;33m\u001b[0m\u001b[1;33m\u001b[0m\u001b[0m\n\u001b[0;32m    417\u001b[0m         \u001b[1;32mreturn\u001b[0m \u001b[0mavg\u001b[0m\u001b[1;33m,\u001b[0m \u001b[0mscl\u001b[0m\u001b[1;33m\u001b[0m\u001b[1;33m\u001b[0m\u001b[0m\n",
      "\u001b[1;31mAttributeError\u001b[0m: 'float' object has no attribute 'shape'"
     ]
    }
   ],
   "source": [
    "print(\"Descriptive Statistics :\", '\\n', df['stability'].describe())\n",
    "print(\"Correlation with target var 'alc consumption' :\", '\\n', df['stability'].corr(df['alc']))\n",
    "print(\"percentage of data distrib :\", '\\n', df.stability.value_counts(normalize=True))\n",
    "\n",
    "fig, ax = plt.subplots(1, 2, figsize= (10,6))\n",
    "sns.despine(right=True)\n",
    "sns.countplot(x=\"stability\", data=df,  ax = ax[0])\n",
    "sns.barplot(x=\"stability\", y = 'alc', data=df,  ax = ax[1])"
   ]
  },
  {
   "cell_type": "markdown",
   "metadata": {},
   "source": [
    "feature quantifying academic support network"
   ]
  },
  {
   "cell_type": "code",
   "execution_count": 15,
   "metadata": {},
   "outputs": [],
   "source": [
    "df['academic_support'] = df.famsup + df.schoolsup  + df.higher "
   ]
  },
  {
   "cell_type": "code",
   "execution_count": 16,
   "metadata": {},
   "outputs": [
    {
     "name": "stdout",
     "output_type": "stream",
     "text": [
      "Descriptive Statistics : \n",
      " count     394\n",
      "unique      4\n",
      "top         2\n",
      "freq      211\n",
      "Name: academic_support, dtype: int64\n"
     ]
    },
    {
     "ename": "AttributeError",
     "evalue": "'float' object has no attribute 'shape'",
     "output_type": "error",
     "traceback": [
      "\u001b[1;31m---------------------------------------------------------------------------\u001b[0m",
      "\u001b[1;31mAttributeError\u001b[0m                            Traceback (most recent call last)",
      "\u001b[1;32m<ipython-input-16-cf69e1d6425a>\u001b[0m in \u001b[0;36m<module>\u001b[1;34m\u001b[0m\n\u001b[0;32m      1\u001b[0m \u001b[0mprint\u001b[0m\u001b[1;33m(\u001b[0m\u001b[1;34m\"Descriptive Statistics :\"\u001b[0m\u001b[1;33m,\u001b[0m \u001b[1;34m'\\n'\u001b[0m\u001b[1;33m,\u001b[0m \u001b[0mdf\u001b[0m\u001b[1;33m[\u001b[0m\u001b[1;34m'academic_support'\u001b[0m\u001b[1;33m]\u001b[0m\u001b[1;33m.\u001b[0m\u001b[0mdescribe\u001b[0m\u001b[1;33m(\u001b[0m\u001b[1;33m)\u001b[0m\u001b[1;33m)\u001b[0m\u001b[1;33m\u001b[0m\u001b[1;33m\u001b[0m\u001b[0m\n\u001b[1;32m----> 2\u001b[1;33m \u001b[0mprint\u001b[0m\u001b[1;33m(\u001b[0m\u001b[1;34m\"Correlation with target var 'alc consumption' :\"\u001b[0m\u001b[1;33m,\u001b[0m \u001b[1;34m'\\n'\u001b[0m\u001b[1;33m,\u001b[0m \u001b[0mdf\u001b[0m\u001b[1;33m[\u001b[0m\u001b[1;34m'academic_support'\u001b[0m\u001b[1;33m]\u001b[0m\u001b[1;33m.\u001b[0m\u001b[0mcorr\u001b[0m\u001b[1;33m(\u001b[0m\u001b[0mdf\u001b[0m\u001b[1;33m[\u001b[0m\u001b[1;34m'alc'\u001b[0m\u001b[1;33m]\u001b[0m\u001b[1;33m)\u001b[0m\u001b[1;33m)\u001b[0m\u001b[1;33m\u001b[0m\u001b[1;33m\u001b[0m\u001b[0m\n\u001b[0m\u001b[0;32m      3\u001b[0m \u001b[0mprint\u001b[0m\u001b[1;33m(\u001b[0m\u001b[1;34m\"percentage of data distrib :\"\u001b[0m\u001b[1;33m,\u001b[0m \u001b[1;34m'\\n'\u001b[0m\u001b[1;33m,\u001b[0m \u001b[0mdf\u001b[0m\u001b[1;33m.\u001b[0m\u001b[0macademic_support\u001b[0m\u001b[1;33m.\u001b[0m\u001b[0mvalue_counts\u001b[0m\u001b[1;33m(\u001b[0m\u001b[0mnormalize\u001b[0m\u001b[1;33m=\u001b[0m\u001b[1;32mTrue\u001b[0m\u001b[1;33m)\u001b[0m\u001b[1;33m)\u001b[0m\u001b[1;33m\u001b[0m\u001b[1;33m\u001b[0m\u001b[0m\n\u001b[0;32m      4\u001b[0m \u001b[1;33m\u001b[0m\u001b[0m\n\u001b[0;32m      5\u001b[0m \u001b[0mfig\u001b[0m\u001b[1;33m,\u001b[0m \u001b[0max\u001b[0m \u001b[1;33m=\u001b[0m \u001b[0mplt\u001b[0m\u001b[1;33m.\u001b[0m\u001b[0msubplots\u001b[0m\u001b[1;33m(\u001b[0m\u001b[1;36m1\u001b[0m\u001b[1;33m,\u001b[0m \u001b[1;36m2\u001b[0m\u001b[1;33m,\u001b[0m \u001b[0mfigsize\u001b[0m\u001b[1;33m=\u001b[0m \u001b[1;33m(\u001b[0m\u001b[1;36m10\u001b[0m\u001b[1;33m,\u001b[0m\u001b[1;36m6\u001b[0m\u001b[1;33m)\u001b[0m\u001b[1;33m)\u001b[0m\u001b[1;33m\u001b[0m\u001b[1;33m\u001b[0m\u001b[0m\n",
      "\u001b[1;32mC:\\ProgramData\\Anaconda3\\lib\\site-packages\\pandas\\core\\series.py\u001b[0m in \u001b[0;36mcorr\u001b[1;34m(self, other, method, min_periods)\u001b[0m\n\u001b[0;32m   2319\u001b[0m \u001b[1;33m\u001b[0m\u001b[0m\n\u001b[0;32m   2320\u001b[0m         \u001b[1;32mif\u001b[0m \u001b[0mmethod\u001b[0m \u001b[1;32min\u001b[0m \u001b[1;33m[\u001b[0m\u001b[1;34m\"pearson\"\u001b[0m\u001b[1;33m,\u001b[0m \u001b[1;34m\"spearman\"\u001b[0m\u001b[1;33m,\u001b[0m \u001b[1;34m\"kendall\"\u001b[0m\u001b[1;33m]\u001b[0m \u001b[1;32mor\u001b[0m \u001b[0mcallable\u001b[0m\u001b[1;33m(\u001b[0m\u001b[0mmethod\u001b[0m\u001b[1;33m)\u001b[0m\u001b[1;33m:\u001b[0m\u001b[1;33m\u001b[0m\u001b[1;33m\u001b[0m\u001b[0m\n\u001b[1;32m-> 2321\u001b[1;33m             return nanops.nancorr(\n\u001b[0m\u001b[0;32m   2322\u001b[0m                 \u001b[0mthis\u001b[0m\u001b[1;33m.\u001b[0m\u001b[0mvalues\u001b[0m\u001b[1;33m,\u001b[0m \u001b[0mother\u001b[0m\u001b[1;33m.\u001b[0m\u001b[0mvalues\u001b[0m\u001b[1;33m,\u001b[0m \u001b[0mmethod\u001b[0m\u001b[1;33m=\u001b[0m\u001b[0mmethod\u001b[0m\u001b[1;33m,\u001b[0m \u001b[0mmin_periods\u001b[0m\u001b[1;33m=\u001b[0m\u001b[0mmin_periods\u001b[0m\u001b[1;33m\u001b[0m\u001b[1;33m\u001b[0m\u001b[0m\n\u001b[0;32m   2323\u001b[0m             )\n",
      "\u001b[1;32mC:\\ProgramData\\Anaconda3\\lib\\site-packages\\pandas\\core\\nanops.py\u001b[0m in \u001b[0;36m_f\u001b[1;34m(*args, **kwargs)\u001b[0m\n\u001b[0;32m     69\u001b[0m             \u001b[1;32mtry\u001b[0m\u001b[1;33m:\u001b[0m\u001b[1;33m\u001b[0m\u001b[1;33m\u001b[0m\u001b[0m\n\u001b[0;32m     70\u001b[0m                 \u001b[1;32mwith\u001b[0m \u001b[0mnp\u001b[0m\u001b[1;33m.\u001b[0m\u001b[0merrstate\u001b[0m\u001b[1;33m(\u001b[0m\u001b[0minvalid\u001b[0m\u001b[1;33m=\u001b[0m\u001b[1;34m\"ignore\"\u001b[0m\u001b[1;33m)\u001b[0m\u001b[1;33m:\u001b[0m\u001b[1;33m\u001b[0m\u001b[1;33m\u001b[0m\u001b[0m\n\u001b[1;32m---> 71\u001b[1;33m                     \u001b[1;32mreturn\u001b[0m \u001b[0mf\u001b[0m\u001b[1;33m(\u001b[0m\u001b[1;33m*\u001b[0m\u001b[0margs\u001b[0m\u001b[1;33m,\u001b[0m \u001b[1;33m**\u001b[0m\u001b[0mkwargs\u001b[0m\u001b[1;33m)\u001b[0m\u001b[1;33m\u001b[0m\u001b[1;33m\u001b[0m\u001b[0m\n\u001b[0m\u001b[0;32m     72\u001b[0m             \u001b[1;32mexcept\u001b[0m \u001b[0mValueError\u001b[0m \u001b[1;32mas\u001b[0m \u001b[0me\u001b[0m\u001b[1;33m:\u001b[0m\u001b[1;33m\u001b[0m\u001b[1;33m\u001b[0m\u001b[0m\n\u001b[0;32m     73\u001b[0m                 \u001b[1;31m# we want to transform an object array\u001b[0m\u001b[1;33m\u001b[0m\u001b[1;33m\u001b[0m\u001b[1;33m\u001b[0m\u001b[0m\n",
      "\u001b[1;32mC:\\ProgramData\\Anaconda3\\lib\\site-packages\\pandas\\core\\nanops.py\u001b[0m in \u001b[0;36mnancorr\u001b[1;34m(a, b, method, min_periods)\u001b[0m\n\u001b[0;32m   1350\u001b[0m \u001b[1;33m\u001b[0m\u001b[0m\n\u001b[0;32m   1351\u001b[0m     \u001b[0mf\u001b[0m \u001b[1;33m=\u001b[0m \u001b[0mget_corr_func\u001b[0m\u001b[1;33m(\u001b[0m\u001b[0mmethod\u001b[0m\u001b[1;33m)\u001b[0m\u001b[1;33m\u001b[0m\u001b[1;33m\u001b[0m\u001b[0m\n\u001b[1;32m-> 1352\u001b[1;33m     \u001b[1;32mreturn\u001b[0m \u001b[0mf\u001b[0m\u001b[1;33m(\u001b[0m\u001b[0ma\u001b[0m\u001b[1;33m,\u001b[0m \u001b[0mb\u001b[0m\u001b[1;33m)\u001b[0m\u001b[1;33m\u001b[0m\u001b[1;33m\u001b[0m\u001b[0m\n\u001b[0m\u001b[0;32m   1353\u001b[0m \u001b[1;33m\u001b[0m\u001b[0m\n\u001b[0;32m   1354\u001b[0m \u001b[1;33m\u001b[0m\u001b[0m\n",
      "\u001b[1;32mC:\\ProgramData\\Anaconda3\\lib\\site-packages\\pandas\\core\\nanops.py\u001b[0m in \u001b[0;36mfunc\u001b[1;34m(a, b)\u001b[0m\n\u001b[0;32m   1371\u001b[0m \u001b[1;33m\u001b[0m\u001b[0m\n\u001b[0;32m   1372\u001b[0m         \u001b[1;32mdef\u001b[0m \u001b[0mfunc\u001b[0m\u001b[1;33m(\u001b[0m\u001b[0ma\u001b[0m\u001b[1;33m,\u001b[0m \u001b[0mb\u001b[0m\u001b[1;33m)\u001b[0m\u001b[1;33m:\u001b[0m\u001b[1;33m\u001b[0m\u001b[1;33m\u001b[0m\u001b[0m\n\u001b[1;32m-> 1373\u001b[1;33m             \u001b[1;32mreturn\u001b[0m \u001b[0mnp\u001b[0m\u001b[1;33m.\u001b[0m\u001b[0mcorrcoef\u001b[0m\u001b[1;33m(\u001b[0m\u001b[0ma\u001b[0m\u001b[1;33m,\u001b[0m \u001b[0mb\u001b[0m\u001b[1;33m)\u001b[0m\u001b[1;33m[\u001b[0m\u001b[1;36m0\u001b[0m\u001b[1;33m,\u001b[0m \u001b[1;36m1\u001b[0m\u001b[1;33m]\u001b[0m\u001b[1;33m\u001b[0m\u001b[1;33m\u001b[0m\u001b[0m\n\u001b[0m\u001b[0;32m   1374\u001b[0m \u001b[1;33m\u001b[0m\u001b[0m\n\u001b[0;32m   1375\u001b[0m         \u001b[1;32mreturn\u001b[0m \u001b[0mfunc\u001b[0m\u001b[1;33m\u001b[0m\u001b[1;33m\u001b[0m\u001b[0m\n",
      "\u001b[1;32m<__array_function__ internals>\u001b[0m in \u001b[0;36mcorrcoef\u001b[1;34m(*args, **kwargs)\u001b[0m\n",
      "\u001b[1;32mC:\\ProgramData\\Anaconda3\\lib\\site-packages\\numpy\\lib\\function_base.py\u001b[0m in \u001b[0;36mcorrcoef\u001b[1;34m(x, y, rowvar, bias, ddof)\u001b[0m\n\u001b[0;32m   2549\u001b[0m         warnings.warn('bias and ddof have no effect and are deprecated',\n\u001b[0;32m   2550\u001b[0m                       DeprecationWarning, stacklevel=3)\n\u001b[1;32m-> 2551\u001b[1;33m     \u001b[0mc\u001b[0m \u001b[1;33m=\u001b[0m \u001b[0mcov\u001b[0m\u001b[1;33m(\u001b[0m\u001b[0mx\u001b[0m\u001b[1;33m,\u001b[0m \u001b[0my\u001b[0m\u001b[1;33m,\u001b[0m \u001b[0mrowvar\u001b[0m\u001b[1;33m)\u001b[0m\u001b[1;33m\u001b[0m\u001b[1;33m\u001b[0m\u001b[0m\n\u001b[0m\u001b[0;32m   2552\u001b[0m     \u001b[1;32mtry\u001b[0m\u001b[1;33m:\u001b[0m\u001b[1;33m\u001b[0m\u001b[1;33m\u001b[0m\u001b[0m\n\u001b[0;32m   2553\u001b[0m         \u001b[0md\u001b[0m \u001b[1;33m=\u001b[0m \u001b[0mdiag\u001b[0m\u001b[1;33m(\u001b[0m\u001b[0mc\u001b[0m\u001b[1;33m)\u001b[0m\u001b[1;33m\u001b[0m\u001b[1;33m\u001b[0m\u001b[0m\n",
      "\u001b[1;32m<__array_function__ internals>\u001b[0m in \u001b[0;36mcov\u001b[1;34m(*args, **kwargs)\u001b[0m\n",
      "\u001b[1;32mC:\\ProgramData\\Anaconda3\\lib\\site-packages\\numpy\\lib\\function_base.py\u001b[0m in \u001b[0;36mcov\u001b[1;34m(m, y, rowvar, bias, ddof, fweights, aweights)\u001b[0m\n\u001b[0;32m   2454\u001b[0m             \u001b[0mw\u001b[0m \u001b[1;33m*=\u001b[0m \u001b[0maweights\u001b[0m\u001b[1;33m\u001b[0m\u001b[1;33m\u001b[0m\u001b[0m\n\u001b[0;32m   2455\u001b[0m \u001b[1;33m\u001b[0m\u001b[0m\n\u001b[1;32m-> 2456\u001b[1;33m     \u001b[0mavg\u001b[0m\u001b[1;33m,\u001b[0m \u001b[0mw_sum\u001b[0m \u001b[1;33m=\u001b[0m \u001b[0maverage\u001b[0m\u001b[1;33m(\u001b[0m\u001b[0mX\u001b[0m\u001b[1;33m,\u001b[0m \u001b[0maxis\u001b[0m\u001b[1;33m=\u001b[0m\u001b[1;36m1\u001b[0m\u001b[1;33m,\u001b[0m \u001b[0mweights\u001b[0m\u001b[1;33m=\u001b[0m\u001b[0mw\u001b[0m\u001b[1;33m,\u001b[0m \u001b[0mreturned\u001b[0m\u001b[1;33m=\u001b[0m\u001b[1;32mTrue\u001b[0m\u001b[1;33m)\u001b[0m\u001b[1;33m\u001b[0m\u001b[1;33m\u001b[0m\u001b[0m\n\u001b[0m\u001b[0;32m   2457\u001b[0m     \u001b[0mw_sum\u001b[0m \u001b[1;33m=\u001b[0m \u001b[0mw_sum\u001b[0m\u001b[1;33m[\u001b[0m\u001b[1;36m0\u001b[0m\u001b[1;33m]\u001b[0m\u001b[1;33m\u001b[0m\u001b[1;33m\u001b[0m\u001b[0m\n\u001b[0;32m   2458\u001b[0m \u001b[1;33m\u001b[0m\u001b[0m\n",
      "\u001b[1;32m<__array_function__ internals>\u001b[0m in \u001b[0;36maverage\u001b[1;34m(*args, **kwargs)\u001b[0m\n",
      "\u001b[1;32mC:\\ProgramData\\Anaconda3\\lib\\site-packages\\numpy\\lib\\function_base.py\u001b[0m in \u001b[0;36maverage\u001b[1;34m(a, axis, weights, returned)\u001b[0m\n\u001b[0;32m    413\u001b[0m \u001b[1;33m\u001b[0m\u001b[0m\n\u001b[0;32m    414\u001b[0m     \u001b[1;32mif\u001b[0m \u001b[0mreturned\u001b[0m\u001b[1;33m:\u001b[0m\u001b[1;33m\u001b[0m\u001b[1;33m\u001b[0m\u001b[0m\n\u001b[1;32m--> 415\u001b[1;33m         \u001b[1;32mif\u001b[0m \u001b[0mscl\u001b[0m\u001b[1;33m.\u001b[0m\u001b[0mshape\u001b[0m \u001b[1;33m!=\u001b[0m \u001b[0mavg\u001b[0m\u001b[1;33m.\u001b[0m\u001b[0mshape\u001b[0m\u001b[1;33m:\u001b[0m\u001b[1;33m\u001b[0m\u001b[1;33m\u001b[0m\u001b[0m\n\u001b[0m\u001b[0;32m    416\u001b[0m             \u001b[0mscl\u001b[0m \u001b[1;33m=\u001b[0m \u001b[0mnp\u001b[0m\u001b[1;33m.\u001b[0m\u001b[0mbroadcast_to\u001b[0m\u001b[1;33m(\u001b[0m\u001b[0mscl\u001b[0m\u001b[1;33m,\u001b[0m \u001b[0mavg\u001b[0m\u001b[1;33m.\u001b[0m\u001b[0mshape\u001b[0m\u001b[1;33m)\u001b[0m\u001b[1;33m.\u001b[0m\u001b[0mcopy\u001b[0m\u001b[1;33m(\u001b[0m\u001b[1;33m)\u001b[0m\u001b[1;33m\u001b[0m\u001b[1;33m\u001b[0m\u001b[0m\n\u001b[0;32m    417\u001b[0m         \u001b[1;32mreturn\u001b[0m \u001b[0mavg\u001b[0m\u001b[1;33m,\u001b[0m \u001b[0mscl\u001b[0m\u001b[1;33m\u001b[0m\u001b[1;33m\u001b[0m\u001b[0m\n",
      "\u001b[1;31mAttributeError\u001b[0m: 'float' object has no attribute 'shape'"
     ]
    }
   ],
   "source": [
    "print(\"Descriptive Statistics :\", '\\n', df['academic_support'].describe())\n",
    "print(\"Correlation with target var 'alc consumption' :\", '\\n', df['academic_support'].corr(df['alc']))\n",
    "print(\"percentage of data distrib :\", '\\n', df.academic_support.value_counts(normalize=True))\n",
    "\n",
    "fig, ax = plt.subplots(1, 2, figsize= (10,6))\n",
    "sns.despine(right=True)\n",
    "sns.countplot(x=\"academic_support\", data=df,  ax = ax[0])\n",
    "sns.barplot(x=\"academic_support\",  y ='alc', data=df,  ax = ax[1])"
   ]
  },
  {
   "cell_type": "code",
   "execution_count": 17,
   "metadata": {},
   "outputs": [],
   "source": [
    "df['idle'] = df.goout*df.freetime"
   ]
  },
  {
   "cell_type": "code",
   "execution_count": 18,
   "metadata": {},
   "outputs": [
    {
     "name": "stdout",
     "output_type": "stream",
     "text": [
      "Descriptive Statistics : \n",
      " count    394.000000\n",
      "mean      10.385787\n",
      "std        5.569218\n",
      "min        1.000000\n",
      "25%        6.000000\n",
      "50%        9.000000\n",
      "75%       15.000000\n",
      "max       25.000000\n",
      "Name: idle, dtype: float64\n",
      "Correlation with target variable 'alc consumption' : \n",
      " 0.3498595207709327\n",
      "percentage of data distrib : \n",
      " 9     0.177665\n",
      "12    0.152284\n",
      "6     0.144670\n",
      "16    0.104061\n",
      "4     0.083756\n",
      "8     0.073604\n",
      "20    0.060914\n",
      "15    0.048223\n",
      "25    0.040609\n",
      "10    0.032995\n",
      "2     0.032995\n",
      "3     0.025381\n",
      "5     0.012690\n",
      "1     0.010152\n",
      "Name: idle, dtype: float64\n"
     ]
    },
    {
     "data": {
      "text/plain": [
       "<AxesSubplot:xlabel='idle', ylabel='alc'>"
      ]
     },
     "execution_count": 18,
     "metadata": {},
     "output_type": "execute_result"
    },
    {
     "data": {
      "image/png": "[encoded data removed]",
      "text/plain": [
       "<Figure size 720x432 with 2 Axes>"
      ]
     },
     "metadata": {
      "needs_background": "light"
     },
     "output_type": "display_data"
    }
   ],
   "source": [
    "print(\"Descriptive Statistics :\", '\\n', df['idle'].describe())\n",
    "print(\"Correlation with target variable 'alc consumption' :\", '\\n', df['idle'].corr(df['alc']))\n",
    "print(\"percentage of data distrib :\", '\\n', df.idle.value_counts(normalize=True))\n",
    "\n",
    "fig, ax = plt.subplots(1, 2, figsize= (10,6))\n",
    "sns.despine(right=True)\n",
    "sns.countplot(x=\"idle\", data=df,  ax = ax[0])\n",
    "ax[0].set_title('abc')\n",
    "sns.barplot(x=\"idle\", y = 'alc', data=df,  ax = ax[1])"
   ]
  },
  {
   "cell_type": "markdown",
   "metadata": {},
   "source": [
    "Average Grade"
   ]
  },
  {
   "cell_type": "code",
   "execution_count": 19,
   "metadata": {},
   "outputs": [],
   "source": [
    "df['grade_avg'] = round((df.G1 + df.G2 + df.G3)/3, 2)"
   ]
  },
  {
   "cell_type": "code",
   "execution_count": 20,
   "metadata": {},
   "outputs": [
    {
     "name": "stdout",
     "output_type": "stream",
     "text": [
      "Descriptive Statistics : \n",
      " count    394.000000\n",
      "mean      10.680025\n",
      "std        3.701570\n",
      "min        1.330000\n",
      "25%        8.330000\n",
      "50%       10.670000\n",
      "75%       13.330000\n",
      "max       19.330000\n",
      "Name: grade_avg, dtype: float64\n",
      "Correlation with target alc consumption : \n",
      " -0.11018361339182221\n"
     ]
    },
    {
     "name": "stderr",
     "output_type": "stream",
     "text": [
      "C:\\ProgramData\\Anaconda3\\lib\\site-packages\\seaborn\\distributions.py:2551: FutureWarning: `distplot` is a deprecated function and will be removed in a future version. Please adapt your code to use either `displot` (a figure-level function with similar flexibility) or `histplot` (an axes-level function for histograms).\n",
      "  warnings.warn(msg, FutureWarning)\n"
     ]
    },
    {
     "data": {
      "text/plain": [
       "<AxesSubplot:xlabel='grade_avg', ylabel='Density'>"
      ]
     },
     "execution_count": 20,
     "metadata": {},
     "output_type": "execute_result"
    },
    {
     "data": {
      "image/png": "[encoded data removed]",
      "text/plain": [
       "<Figure size 432x288 with 1 Axes>"
      ]
     },
     "metadata": {
      "needs_background": "light"
     },
     "output_type": "display_data"
    }
   ],
   "source": [
    "print(\"Descriptive Statistics :\", '\\n', df['grade_avg'].describe())\n",
    "print(\"Correlation with target alc consumption :\", '\\n', df['grade_avg'].corr(df['alc']))\n",
    "\n",
    "sns.despine(right=True)\n",
    "sns.distplot(a=df[\"grade_avg\"],bins=10, kde=True, hist=True)\n",
    "\n",
    "# plt.figure(figsize=(5,8))\n",
    "# df.boxplot(column='grade_avg', by = 'alc')"
   ]
  },
  {
   "cell_type": "code",
   "execution_count": 21,
   "metadata": {},
   "outputs": [],
   "source": [
    "heavy = df.loc[df['alc'] == 1]\n",
    "light = df.loc[df['alc'] == 0]\n",
    "grades_heavy = df.grade_avg\n",
    "grades_light = df.grade_avg"
   ]
  },
  {
   "cell_type": "code",
   "execution_count": 22,
   "metadata": {},
   "outputs": [
    {
     "data": {
      "image/png": "[encoded data removed]",
      "text/plain": [
       "<Figure size 432x288 with 1 Axes>"
      ]
     },
     "metadata": {
      "needs_background": "light"
     },
     "output_type": "display_data"
    }
   ],
   "source": [
    "plt.hist([grades_heavy,grades_light], bins = 30, stacked = True)\n",
    "plt.xlabel('grade point average')\n",
    "plt.ylabel('frequency')\n",
    "plt.title('heavy drinkers & light drinkers GPA distributions')\n",
    "plt.axvline(x = 10.5, color = 'k')\n",
    "plt.axvline(x = 12.33, color = 'k')\n",
    "plt.savefig('gpahist.png')\n",
    "plt.show();"
   ]
  },
  {
   "cell_type": "code",
   "execution_count": 23,
   "metadata": {},
   "outputs": [],
   "source": [
    "df['delinquency'] = (df['failures']) * df['absences']"
   ]
  },
  {
   "cell_type": "code",
   "execution_count": 24,
   "metadata": {},
   "outputs": [
    {
     "name": "stdout",
     "output_type": "stream",
     "text": [
      "Descriptive Statistics : \n",
      " count    394.000000\n",
      "mean       2.291878\n",
      "std        7.129381\n",
      "min        0.000000\n",
      "25%        0.000000\n",
      "50%        0.000000\n",
      "75%        0.000000\n",
      "max       48.000000\n",
      "Name: delinquency, dtype: float64\n",
      "Correlation with target variable 'alc consumption' : \n",
      " 0.18289804662205839\n",
      "percentage of data distrib : \n",
      " 0     0.855330\n",
      "4     0.012690\n",
      "6     0.012690\n",
      "12    0.012690\n",
      "16    0.010152\n",
      "2     0.010152\n",
      "8     0.010152\n",
      "15    0.007614\n",
      "28    0.007614\n",
      "22    0.005076\n",
      "14    0.005076\n",
      "30    0.005076\n",
      "20    0.005076\n",
      "48    0.005076\n",
      "24    0.005076\n",
      "18    0.005076\n",
      "44    0.002538\n",
      "13    0.002538\n",
      "25    0.002538\n",
      "9     0.002538\n",
      "7     0.002538\n",
      "19    0.002538\n",
      "38    0.002538\n",
      "3     0.002538\n",
      "40    0.002538\n",
      "10    0.002538\n",
      "Name: delinquency, dtype: float64\n"
     ]
    },
    {
     "name": "stderr",
     "output_type": "stream",
     "text": [
      "C:\\ProgramData\\Anaconda3\\lib\\site-packages\\seaborn\\distributions.py:2551: FutureWarning: `distplot` is a deprecated function and will be removed in a future version. Please adapt your code to use either `displot` (a figure-level function with similar flexibility) or `histplot` (an axes-level function for histograms).\n",
      "  warnings.warn(msg, FutureWarning)\n"
     ]
    },
    {
     "data": {
      "text/plain": [
       "<AxesSubplot:xlabel='delinquency'>"
      ]
     },
     "execution_count": 24,
     "metadata": {},
     "output_type": "execute_result"
    },
    {
     "data": {
      "image/png": "[encoded data removed]",
      "text/plain": [
       "<Figure size 432x288 with 1 Axes>"
      ]
     },
     "metadata": {
      "needs_background": "light"
     },
     "output_type": "display_data"
    }
   ],
   "source": [
    "print(\"Descriptive Statistics :\", '\\n', df['delinquency'].describe())\n",
    "print(\"Correlation with target variable 'alc consumption' :\", '\\n', df['delinquency'].corr(df['alc']))\n",
    "print(\"percentage of data distrib :\", '\\n', df.delinquency.value_counts(normalize=True))\n",
    "\n",
    "sns.despine(right=True)\n",
    "sns.distplot(a=df[\"delinquency\"],bins=10, kde = False ,hist=True)"
   ]
  },
  {
   "cell_type": "code",
   "execution_count": 25,
   "metadata": {},
   "outputs": [
    {
     "name": "stdout",
     "output_type": "stream",
     "text": [
      "(394, 40)\n",
      "Index(['school', 'sex', 'age', 'address', 'famsize', 'Pstatus', 'Medu', 'Fedu',\n",
      "       'Mjob', 'Fjob', 'reason', 'guardian', 'traveltime', 'studytime',\n",
      "       'failures', 'schoolsup', 'famsup', 'paid', 'activities', 'nursery',\n",
      "       'higher', 'internet', 'romantic', 'famrel', 'freetime', 'goout', 'Dalc',\n",
      "       'Walc', 'health', 'absences', 'G1', 'G2', 'G3', 'week_alc', 'alc',\n",
      "       'stability', 'academic_support', 'idle', 'grade_avg', 'delinquency'],\n",
      "      dtype='object')\n"
     ]
    }
   ],
   "source": [
    "print(df.shape)\n",
    "\n",
    "print(df.columns)"
   ]
  },
  {
   "cell_type": "code",
   "execution_count": 26,
   "metadata": {},
   "outputs": [],
   "source": [
    "dummy1 = pd.get_dummies(df['Medu'],drop_first= True, prefix='Medu')\n",
    "dummy2 = pd.get_dummies(df['Fedu'],drop_first= True, prefix='Fedu')\n",
    "dummy3 = pd.get_dummies(df['Mjob'],drop_first= True, prefix='Mjob')\n",
    "dummy4 = pd.get_dummies(df['Fjob'],drop_first= True, prefix='Fjob')\n",
    "dummy5 = pd.get_dummies(df['reason'],drop_first= True, prefix='reason')\n",
    "dummy6 = pd.get_dummies(df['guardian'],drop_first= True, prefix='guardian')\n",
    "dummy7 = pd.get_dummies(df['traveltime'],drop_first= True, prefix='traveltime')\n",
    "dummy8 = pd.get_dummies(df['studytime'],drop_first= True, prefix='studytime')\n",
    "dummy9 = pd.get_dummies(df['failures'],drop_first= True, prefix = 'failures')\n",
    "dummy10 = pd.get_dummies(df['famrel'],drop_first= True, prefix='famrel')\n",
    "dummy11 = pd.get_dummies(df['freetime'],drop_first= True, prefix='freetime')\n",
    "dummy12 = pd.get_dummies(df['goout'],drop_first= True, prefix=\"goout\")\n",
    "dummy13 = pd.get_dummies(df['health'],drop_first= True, prefix='health')"
   ]
  },
  {
   "cell_type": "code",
   "execution_count": 27,
   "metadata": {},
   "outputs": [],
   "source": [
    "new_feats = ['grade_avg', 'academic_support', 'stability', 'idle', 'delinquency']\n",
    "dummy_feats = ['Medu', 'Fedu','Mjob', 'Fjob', 'reason', 'guardian', 'traveltime', 'studytime',\n",
    "       'failures','famrel', 'freetime', 'goout','health']\n",
    "\n",
    "df.drop(columns = ['week_alc', 'Dalc', 'Walc', 'alc'], axis = 1, inplace = True)"
   ]
  },
  {
   "cell_type": "code",
   "execution_count": 28,
   "metadata": {},
   "outputs": [],
   "source": [
    "df_list = [df, dummy1, dummy2, dummy3, dummy4, dummy5, dummy6, dummy7, \n",
    "           dummy8, dummy9, dummy10, dummy11, dummy12, dummy13]\n"
   ]
  },
  {
   "cell_type": "code",
   "execution_count": 29,
   "metadata": {},
   "outputs": [
    {
     "name": "stdout",
     "output_type": "stream",
     "text": [
      "(394, 36)\n",
      "(394, 4)\n",
      "(394, 4)\n",
      "(394, 4)\n",
      "(394, 4)\n",
      "(394, 3)\n",
      "(394, 2)\n",
      "(394, 3)\n",
      "(394, 3)\n",
      "(394, 3)\n",
      "(394, 4)\n",
      "(394, 4)\n",
      "(394, 4)\n",
      "(394, 4)\n"
     ]
    }
   ],
   "source": [
    "for df in df_list:\n",
    "    print(df.shape)"
   ]
  },
  {
   "cell_type": "code",
   "execution_count": 30,
   "metadata": {},
   "outputs": [],
   "source": [
    "X = pd.concat(df_list, axis = 1)"
   ]
  },
  {
   "cell_type": "code",
   "execution_count": 31,
   "metadata": {},
   "outputs": [
    {
     "name": "stdout",
     "output_type": "stream",
     "text": [
      "(394, 82)\n",
      "(394,)\n"
     ]
    }
   ],
   "source": [
    "print(X.shape)\n",
    "print(y.shape)"
   ]
  },
  {
   "cell_type": "markdown",
   "metadata": {},
   "source": [
    "### Train Test Split"
   ]
  },
  {
   "cell_type": "code",
   "execution_count": 32,
   "metadata": {},
   "outputs": [
    {
     "name": "stdout",
     "output_type": "stream",
     "text": [
      "Training set - Features:  (315, 82) Target:  (315,)\n",
      "Test set - Features:  (79, 82) Target:  (79,)\n",
      "0    0.812698\n",
      "1    0.187302\n",
      "Name: alc, dtype: float64\n",
      "0    0.810127\n",
      "1    0.189873\n",
      "Name: alc, dtype: float64\n"
     ]
    }
   ],
   "source": [
    "#performing train-test split on main dataframe\n",
    "X_train, X_test, y_train, y_test = train_test_split(X, y, random_state=150, test_size=0.2)\n",
    "\n",
    "#checking the shape of the training set and test set\n",
    "print(\"Training set - Features: \", X_train.shape, \"Target: \", y_train.shape,)\n",
    "print(\"Test set - Features: \", X_test.shape, \"Target: \",y_test.shape,)\n",
    "print(y_train.value_counts(normalize = True))\n",
    "print(y_test.value_counts(normalize = True))"
   ]
  },
  {
   "cell_type": "code",
   "execution_count": 33,
   "metadata": {},
   "outputs": [],
   "source": [
    "# concatenate our training data back together\n",
    "training  = pd.concat([X_train, y_train], axis=1)"
   ]
  },
  {
   "cell_type": "code",
   "execution_count": 34,
   "metadata": {},
   "outputs": [
    {
     "name": "stdout",
     "output_type": "stream",
     "text": [
      "light drinker count: 256\n",
      "heavy drinker count: 59\n"
     ]
    }
   ],
   "source": [
    "# separate minority and majority classes\n",
    "light_drinker = training[training.alc==0]\n",
    "heavy_drinker = training[training.alc==1]\n",
    "\n",
    "# Get a class count to understand the class imbalance.\n",
    "print('light drinker count: '+ str(len(light_drinker)))\n",
    "print('heavy drinker count: '+ str(len(heavy_drinker)))"
   ]
  },
  {
   "cell_type": "code",
   "execution_count": 35,
   "metadata": {},
   "outputs": [],
   "source": [
    "from sklearn.utils import resample"
   ]
  },
  {
   "cell_type": "code",
   "execution_count": 36,
   "metadata": {},
   "outputs": [
    {
     "data": {
      "text/plain": [
       "(256, 83)"
      ]
     },
     "execution_count": 36,
     "metadata": {},
     "output_type": "execute_result"
    }
   ],
   "source": [
    "# upsample minority\n",
    "heavy_drinker_upsampled = resample(heavy_drinker,\n",
    "                          replace=True, # sample with replacement\n",
    "                          n_samples=len(light_drinker), # match number in majority class\n",
    "                          random_state=23) # reproducible results\n",
    "heavy_drinker_upsampled.shape"
   ]
  },
  {
   "cell_type": "code",
   "execution_count": 37,
   "metadata": {},
   "outputs": [
    {
     "data": {
      "text/plain": [
       "1    256\n",
       "0    256\n",
       "Name: alc, dtype: int64"
      ]
     },
     "execution_count": 37,
     "metadata": {},
     "output_type": "execute_result"
    }
   ],
   "source": [
    "# combine majority and upsampled minority\n",
    "upsampled = pd.concat([light_drinker, heavy_drinker_upsampled])\n",
    "\n",
    "# check new class counts\n",
    "upsampled.alc.value_counts()"
   ]
  },
  {
   "cell_type": "code",
   "execution_count": 38,
   "metadata": {},
   "outputs": [
    {
     "data": {
      "text/plain": [
       "(512, 69)"
      ]
     },
     "execution_count": 38,
     "metadata": {},
     "output_type": "execute_result"
    }
   ],
   "source": [
    "# trying logistic regression again with the balanced dataset\n",
    "y_train_up = upsampled.alc\n",
    "X_train_up = upsampled.drop(columns = 'alc', axis=1)\n",
    "X_train_up.drop(columns = dummy_feats, axis=1, inplace=True)\n",
    "X_train_up.shape\n",
    "\n",
    "# print(y_train_u.value_counts(normalize = True))\n",
    "# print(X_train_u.value_counts(normalize = True))"
   ]
  },
  {
   "cell_type": "markdown",
   "metadata": {},
   "source": [
    "# Feature Selection"
   ]
  },
  {
   "cell_type": "code",
   "execution_count": 39,
   "metadata": {},
   "outputs": [
    {
     "name": "stdout",
     "output_type": "stream",
     "text": [
      "31\n",
      "5\n",
      "13\n",
      "(512, 69)\n",
      "(512,)\n"
     ]
    }
   ],
   "source": [
    "print(len(orig_feats))\n",
    "print(len(new_feats))\n",
    "print(len(dummy_feats))\n",
    "print(X_train_up.shape)\n",
    "print(y_train_up.shape)"
   ]
  },
  {
   "cell_type": "markdown",
   "metadata": {},
   "source": [
    "### Select Kbest 10"
   ]
  },
  {
   "cell_type": "code",
   "execution_count": 40,
   "metadata": {},
   "outputs": [
    {
     "name": "stdout",
     "output_type": "stream",
     "text": [
      "(512, 10) (79, 10)\n"
     ]
    }
   ],
   "source": [
    "#setting parameters to choose the best 10 variables based on the significance of the variable F stat\n",
    "selector = SelectKBest(f_classif, k=10) #setting parameters to choose the best 10 variables based on the significance of the variable F stat\n",
    "\n",
    "#Fitting selector object to training set\n",
    "selector.fit(X_train_up, y_train_up)\n",
    "\n",
    "selected_columns = X_train_up.columns[selector.get_support()]\n",
    "removed_columns = X_train_up.columns[~selector.get_support()]\n",
    "\n",
    "X_train_kb10 = X_train_up[selected_columns]\n",
    "X_test_kb10 = X_test[selected_columns]\n",
    "print(X_train_kb10.shape, X_test_kb10.shape)"
   ]
  },
  {
   "cell_type": "markdown",
   "metadata": {},
   "source": [
    "### Select Kbest 15"
   ]
  },
  {
   "cell_type": "code",
   "execution_count": 41,
   "metadata": {},
   "outputs": [],
   "source": [
    "#setting parameters to choose the best 50 variables based on the significance of the variable F stat\n",
    "selector = SelectKBest(f_classif, k=15) #setting parameters to choose the best 50 variables based on the significance of the variable F stat\n",
    "\n",
    "#Fitting selector object to training set\n",
    "selector.fit(X_train_up, y_train_up)\n",
    "\n",
    "selected_columns = X_train_up.columns[selector.get_support()]\n",
    "removed_columns = X_train_up.columns[~selector.get_support()]\n",
    "\n",
    "X_train_kb15 = X_train_up[selected_columns]\n",
    "X_test_kb15 = X_test[selected_columns]"
   ]
  },
  {
   "cell_type": "markdown",
   "metadata": {},
   "source": [
    "### Select Kbest 20"
   ]
  },
  {
   "cell_type": "code",
   "execution_count": 42,
   "metadata": {},
   "outputs": [],
   "source": [
    "#setting parameters to choose the best 50 variables based on the significance of the variable F stat\n",
    "selector = SelectKBest(f_classif, k=20) #setting parameters to choose the best 50 variables based on the significance of the variable F stat\n",
    "\n",
    "#Fitting selector object to training set\n",
    "selector.fit(X_train_up, y_train_up)\n",
    "\n",
    "selected_columns = X_train_up.columns[selector.get_support()]\n",
    "removed_columns = X_train_up.columns[~selector.get_support()]\n",
    "\n",
    "X_train_kb20 = X_train_up[selected_columns]\n",
    "X_test_kb20 = X_test[selected_columns]"
   ]
  },
  {
   "cell_type": "markdown",
   "metadata": {},
   "source": [
    "### Select Kbest 25"
   ]
  },
  {
   "cell_type": "code",
   "execution_count": 43,
   "metadata": {},
   "outputs": [],
   "source": [
    "#setting parameters to choose the best 50 variables based on the significance of the variable F stat\n",
    "selector = SelectKBest(f_classif, k=25) #setting parameters to choose the best 50 variables based on the significance of the variable F stat\n",
    "\n",
    "#Fitting selector object to training set\n",
    "selector.fit(X_train_up, y_train_up)\n",
    "\n",
    "selected_columns = X_train_up.columns[selector.get_support()]\n",
    "removed_columns = X_train_up.columns[~selector.get_support()]\n",
    "\n",
    "X_train_kb25 = X_train_up[selected_columns]\n",
    "X_test_kb25 = X_test[selected_columns]"
   ]
  },
  {
   "cell_type": "markdown",
   "metadata": {},
   "source": [
    "### Select Kbest 30"
   ]
  },
  {
   "cell_type": "code",
   "execution_count": 44,
   "metadata": {},
   "outputs": [],
   "source": [
    "#setting parameters to choose the best 50 variables based on the significance of the variable F stat\n",
    "selector = SelectKBest(f_classif, k=30) #setting parameters to choose the best 50 variables based on the significance of the variable F stat\n",
    "\n",
    "#Fitting selector object to training set\n",
    "selector.fit(X_train_up, y_train_up)\n",
    "\n",
    "selected_columns = X_train_up.columns[selector.get_support()]\n",
    "removed_columns = X_train_up.columns[~selector.get_support()]\n",
    "\n",
    "X_train_kb30 = X_train_up[selected_columns]\n",
    "X_test_kb30 = X_test[selected_columns]"
   ]
  },
  {
   "cell_type": "markdown",
   "metadata": {},
   "source": [
    "### Select Kbest 35"
   ]
  },
  {
   "cell_type": "code",
   "execution_count": 45,
   "metadata": {},
   "outputs": [],
   "source": [
    "#setting parameters to choose the best 50 variables based on the significance of the variable F stat\n",
    "selector = SelectKBest(f_classif, k=35) #setting parameters to choose the best 50 variables based on the significance of the variable F stat\n",
    "\n",
    "#Fitting selector object to training set\n",
    "selector.fit(X_train_up, y_train_up)\n",
    "\n",
    "selected_columns = X_train_up.columns[selector.get_support()]\n",
    "removed_columns = X_train_up.columns[~selector.get_support()]\n",
    "\n",
    "X_train_kb35 = X_train_up[selected_columns]\n",
    "X_test_kb35 = X_test[selected_columns]"
   ]
  },
  {
   "cell_type": "markdown",
   "metadata": {},
   "source": [
    "# Models"
   ]
  },
  {
   "cell_type": "markdown",
   "metadata": {},
   "source": [
    "### 1. BASELINE Model"
   ]
  },
  {
   "cell_type": "code",
   "execution_count": 46,
   "metadata": {},
   "outputs": [
    {
     "name": "stdout",
     "output_type": "stream",
     "text": [
      "Test Accuracy score:  0.810126582278481\n",
      "Train Accuracy score:  0.8920634920634921\n",
      "Test F1 score:  0.3478260869565218\n",
      "Train F1 score:  0.6530612244897959\n",
      "Test Recall score:  0.26666666666666666\n",
      "Train Recall score:  0.5423728813559322\n"
     ]
    }
   ],
   "source": [
    "lr1 = LogisticRegression(solver='liblinear', random_state=150)\n",
    "\n",
    "lr1.fit(X_train[orig_feats], y_train)\n",
    "\n",
    "y_pred_test = lr1.predict(X_test[orig_feats])\n",
    "y_pred_train = lr1.predict(X_train[orig_feats])\n",
    "\n",
    "# checking accuracy\n",
    "print('Test Accuracy score: ', metrics.accuracy_score(y_test, y_pred_test))\n",
    "print('Train Accuracy score: ', metrics.accuracy_score(y_train, y_pred_train))\n",
    "\n",
    "# checking accuracy\n",
    "print('Test F1 score: ', metrics.f1_score(y_test, y_pred_test))\n",
    "print('Train F1 score: ', metrics.f1_score(y_train, y_pred_train))\n",
    "\n",
    "# checking accuracy\n",
    "print('Test Recall score: ', metrics.recall_score(y_test, y_pred_test))\n",
    "print('Train Recall score: ', metrics.recall_score(y_train, y_pred_train))"
   ]
  },
  {
   "cell_type": "code",
   "execution_count": 47,
   "metadata": {},
   "outputs": [
    {
     "data": {
      "text/plain": [
       "{'1.lr_baseline': (0.8101, 0.3478, 0.2667)}"
      ]
     },
     "execution_count": 47,
     "metadata": {},
     "output_type": "execute_result"
    }
   ],
   "source": [
    "results = {}\n",
    "\n",
    "results['1.lr_baseline'] = (round(metrics.accuracy_score(y_test, y_pred_test),4), \n",
    "                            round(metrics.f1_score(y_test, y_pred_test),4), \n",
    "                          round(metrics.recall_score(y_test, y_pred_test),4))\n",
    "results"
   ]
  },
  {
   "cell_type": "markdown",
   "metadata": {},
   "source": [
    "#### Removing the dummied features from the train and test sets"
   ]
  },
  {
   "cell_type": "code",
   "execution_count": 48,
   "metadata": {},
   "outputs": [],
   "source": [
    "X_train1 = X_train.drop(columns = dummy_feats, axis = 1)\n",
    "X_test1 = X_test.drop(columns = dummy_feats, axis = 1)"
   ]
  },
  {
   "cell_type": "code",
   "execution_count": null,
   "metadata": {},
   "outputs": [],
   "source": []
  },
  {
   "cell_type": "markdown",
   "metadata": {},
   "source": [
    "### Scaling train and test sets"
   ]
  },
  {
   "cell_type": "code",
   "execution_count": 49,
   "metadata": {},
   "outputs": [],
   "source": [
    "scaler1 = MinMaxScaler()  \n",
    "scaler1.fit(X_train1)\n",
    "# Scaling Imbalanced data\n",
    "X_train_scaleI = scaler1.transform(X_train1)  \n",
    "X_test_scale = scaler1.transform(X_test1)\n",
    "\n",
    "#Scaling upsampled data\n",
    "scaler2 = MinMaxScaler()  \n",
    "scaler2.fit(X_train_up)\n",
    "\n",
    "X_train_scaleu = scaler2.transform(X_train_up)  \n"
   ]
  },
  {
   "cell_type": "code",
   "execution_count": 50,
   "metadata": {},
   "outputs": [
    {
     "name": "stdout",
     "output_type": "stream",
     "text": [
      "(315, 82)\n",
      "(79, 82)\n",
      "(315, 69)\n",
      "(79, 69)\n",
      "(512, 69)\n",
      "(512,)\n",
      "(315, 69)\n",
      "(512, 69)\n",
      "(79, 69)\n",
      "(79,)\n"
     ]
    }
   ],
   "source": [
    "print(X_train.shape) # All features train set\n",
    "print(X_test.shape) # All features test set\n",
    "\n",
    "print(X_train1.shape) #Removed dummied features\n",
    "print(X_test1.shape) # Removed dummied features\n",
    "\n",
    "print(X_train_up.shape) #Upsampled train set and no dummied vars\n",
    "print(y_train_up.shape)\n",
    "\n",
    "print(X_train_scaleI.shape) # Scaled Imbalanced X_train1 set\n",
    "\n",
    "print(X_train_scaleu.shape) # Scaled upsampled X_train_up set\n",
    "print(X_test_scale.shape) # Scaled X_test1 set\n",
    "\n",
    "print(y_test.shape)"
   ]
  },
  {
   "cell_type": "markdown",
   "metadata": {},
   "source": [
    "### 2. Logistic Regression with X_train_up (Upsampled Unscaled Train set)"
   ]
  },
  {
   "cell_type": "code",
   "execution_count": 51,
   "metadata": {},
   "outputs": [
    {
     "name": "stdout",
     "output_type": "stream",
     "text": [
      "Test Accuracy score:  0.7215189873417721\n",
      "Train Accuracy score:  0.900390625\n",
      "Test F1 score:  0.47619047619047616\n",
      "Train F1 score:  0.9050279329608939\n",
      "Test Recall score:  0.6666666666666666\n",
      "Train Recall score:  0.94921875\n"
     ]
    }
   ],
   "source": [
    "upsampled_lr = LogisticRegression(solver='liblinear')\n",
    "\n",
    "\n",
    "upsampled_lr.fit(X_train_up, y_train_up)\n",
    "\n",
    "\n",
    "upsampled_pred_test = upsampled_lr.predict(X_test1)\n",
    "upsampled_pred_train = upsampled_lr.predict(X_train_up)\n",
    "\n",
    "\n",
    "# checking accuracy\n",
    "print('Test Accuracy score: ', metrics.accuracy_score(y_test, upsampled_pred_test))\n",
    "print('Train Accuracy score: ', metrics.accuracy_score(y_train_up, upsampled_pred_train))\n",
    "\n",
    "# checking accuracy\n",
    "print('Test F1 score: ', metrics.f1_score(y_test, upsampled_pred_test))\n",
    "print('Train F1 score: ', metrics.f1_score(y_train_up, upsampled_pred_train))\n",
    "\n",
    "# checking accuracy\n",
    "print('Test Recall score: ', metrics.recall_score(y_test, upsampled_pred_test))\n",
    "print('Train Recall score: ', metrics.recall_score(y_train_up, upsampled_pred_train))"
   ]
  },
  {
   "cell_type": "code",
   "execution_count": 52,
   "metadata": {},
   "outputs": [
    {
     "data": {
      "text/plain": [
       "{'1.lr_baseline': (0.8101, 0.3478, 0.2667),\n",
       " '2. lr_upsampled': (0.7215, 0.4762, 1)}"
      ]
     },
     "execution_count": 52,
     "metadata": {},
     "output_type": "execute_result"
    }
   ],
   "source": [
    "results['2. lr_upsampled'] = (round(metrics.accuracy_score(y_test, upsampled_pred_test),4), \n",
    "                           round(metrics.f1_score(y_test, upsampled_pred_test),4),\n",
    "                          round(metrics.recall_score(y_test, upsampled_pred_test)))\n",
    "results"
   ]
  },
  {
   "cell_type": "markdown",
   "metadata": {},
   "source": [
    "### 3. Logistic Regression with X_train_up (Upsampled and Scaled Train set)"
   ]
  },
  {
   "cell_type": "code",
   "execution_count": 53,
   "metadata": {},
   "outputs": [
    {
     "name": "stdout",
     "output_type": "stream",
     "text": [
      "Test Accuracy score:  0.7215189873417721\n",
      "Train Accuracy score:  0.75\n",
      "Test F1 score:  0.35294117647058826\n",
      "Train F1 score:  0.6893203883495146\n",
      "Test Recall score:  0.4\n",
      "Train Recall score:  0.5546875\n"
     ]
    }
   ],
   "source": [
    "upscaled_lr = LogisticRegression(solver='liblinear')\n",
    "\n",
    "\n",
    "upscaled_lr.fit(X_train_scaleu, y_train_up)\n",
    "\n",
    "\n",
    "upscaled_pred_test = upsampled_lr.predict(X_test_scale)\n",
    "upscaled_pred_train = upsampled_lr.predict(X_train_scaleu)\n",
    "\n",
    "\n",
    "# checking accuracy\n",
    "print('Test Accuracy score: ', metrics.accuracy_score(y_test, upscaled_pred_test))\n",
    "print('Train Accuracy score: ', metrics.accuracy_score(y_train_up, upscaled_pred_train))\n",
    "\n",
    "# checking accuracy\n",
    "print('Test F1 score: ', metrics.f1_score(y_test, upscaled_pred_test))\n",
    "print('Train F1 score: ', metrics.f1_score(y_train_up, upscaled_pred_train))\n",
    "\n",
    "# checking accuracy\n",
    "print('Test Recall score: ', metrics.recall_score(y_test, upscaled_pred_test))\n",
    "print('Train Recall score: ', metrics.recall_score(y_train_up, upscaled_pred_train))"
   ]
  },
  {
   "cell_type": "code",
   "execution_count": 54,
   "metadata": {},
   "outputs": [
    {
     "data": {
      "text/plain": [
       "{'1.lr_baseline': (0.8101, 0.3478, 0.2667),\n",
       " '2. lr_upsampled': (0.7215, 0.4762, 1),\n",
       " '3.  lr_upscaled': (0.7215, 0.3529, 0.5547)}"
      ]
     },
     "execution_count": 54,
     "metadata": {},
     "output_type": "execute_result"
    }
   ],
   "source": [
    "results['3.  lr_upscaled'] = (round(metrics.accuracy_score(y_test, upscaled_pred_test),4), \n",
    "                           round(metrics.f1_score(y_test, upscaled_pred_test),4),\n",
    "                          round(metrics.recall_score(y_train_up, upscaled_pred_train),4))\n",
    "results\n"
   ]
  },
  {
   "cell_type": "markdown",
   "metadata": {},
   "source": [
    "### 4. Logistic Regression with K best 10"
   ]
  },
  {
   "cell_type": "code",
   "execution_count": 55,
   "metadata": {},
   "outputs": [
    {
     "name": "stdout",
     "output_type": "stream",
     "text": [
      "Test Accuracy score:  0.7215189873417721\n",
      "Train Accuracy score:  0.783203125\n",
      "Test F1 score:  0.45\n",
      "Train F1 score:  0.7730061349693251\n",
      "Test Recall score:  0.6\n",
      "Train Recall score:  0.73828125\n"
     ]
    }
   ],
   "source": [
    "kb10_lr = LogisticRegression(solver='liblinear')\n",
    "\n",
    "\n",
    "kb10_lr.fit(X_train_kb10, y_train_up)\n",
    "\n",
    "\n",
    "kb10_pred_test = kb10_lr.predict(X_test_kb10)\n",
    "kb10_pred_train = kb10_lr.predict(X_train_kb10)\n",
    "\n",
    "\n",
    "# checking accuracy\n",
    "print('Test Accuracy score: ', metrics.accuracy_score(y_test, kb10_pred_test))\n",
    "print('Train Accuracy score: ', metrics.accuracy_score(y_train_up, kb10_pred_train))\n",
    "\n",
    "# checking accuracy\n",
    "print('Test F1 score: ', metrics.f1_score(y_test, kb10_pred_test))\n",
    "print('Train F1 score: ', metrics.f1_score(y_train_up, kb10_pred_train))\n",
    "\n",
    "# checking accuracy\n",
    "print('Test Recall score: ', metrics.recall_score(y_test, kb10_pred_test))\n",
    "print('Train Recall score: ', metrics.recall_score(y_train_up, kb10_pred_train))"
   ]
  },
  {
   "cell_type": "code",
   "execution_count": 56,
   "metadata": {},
   "outputs": [
    {
     "data": {
      "text/plain": [
       "{'1.lr_baseline': (0.8101, 0.3478, 0.2667),\n",
       " '2. lr_upsampled': (0.7215, 0.4762, 1),\n",
       " '3.  lr_upscaled': (0.7215, 0.3529, 0.5547),\n",
       " '4. lr_kb10': (0.7215, 0.45, 0.6)}"
      ]
     },
     "execution_count": 56,
     "metadata": {},
     "output_type": "execute_result"
    }
   ],
   "source": [
    "results['4. lr_kb10'] = (round(metrics.accuracy_score(y_test, kb10_pred_test),4), \n",
    "                           round(metrics.f1_score(y_test, kb10_pred_test),4),\n",
    "                     round(metrics.recall_score(y_test, kb10_pred_test),4))\n",
    "results"
   ]
  },
  {
   "cell_type": "markdown",
   "metadata": {},
   "source": [
    "### 5. Logistic Regression with K best 15"
   ]
  },
  {
   "cell_type": "code",
   "execution_count": 57,
   "metadata": {},
   "outputs": [
    {
     "name": "stdout",
     "output_type": "stream",
     "text": [
      "Test Accuracy score:  0.6835443037974683\n",
      "Train Accuracy score:  0.833984375\n",
      "Test F1 score:  0.3902439024390244\n",
      "Train F1 score:  0.8393194706994329\n",
      "Test Recall score:  0.5333333333333333\n",
      "Train Recall score:  0.8671875\n"
     ]
    }
   ],
   "source": [
    "kb15_lr = LogisticRegression(solver='liblinear')\n",
    "\n",
    "kb15_lr.fit(X_train_kb15, y_train_up)\n",
    "\n",
    "\n",
    "kb15_pred_test = kb15_lr.predict(X_test_kb15)\n",
    "kb15_pred_train = kb15_lr.predict(X_train_kb15)\n",
    "\n",
    "\n",
    "# checking accuracy\n",
    "print('Test Accuracy score: ', metrics.accuracy_score(y_test, kb15_pred_test))\n",
    "print('Train Accuracy score: ', metrics.accuracy_score(y_train_up, kb15_pred_train))\n",
    "\n",
    "# checking accuracy\n",
    "print('Test F1 score: ', metrics.f1_score(y_test, kb15_pred_test))\n",
    "print('Train F1 score: ', metrics.f1_score(y_train_up, kb15_pred_train))\n",
    "\n",
    "# checking accuracy\n",
    "print('Test Recall score: ', metrics.recall_score(y_test, kb15_pred_test))\n",
    "print('Train Recall score: ', metrics.recall_score(y_train_up, kb15_pred_train))"
   ]
  },
  {
   "cell_type": "code",
   "execution_count": 58,
   "metadata": {},
   "outputs": [
    {
     "data": {
      "text/plain": [
       "{'1.lr_baseline': (0.8101, 0.3478, 0.2667),\n",
       " '2. lr_upsampled': (0.7215, 0.4762, 1),\n",
       " '3.  lr_upscaled': (0.7215, 0.3529, 0.5547),\n",
       " '4. lr_kb10': (0.7215, 0.45, 0.6),\n",
       " '5. lr_kb15': (0.6835, 0.3902, 0.5333)}"
      ]
     },
     "execution_count": 58,
     "metadata": {},
     "output_type": "execute_result"
    }
   ],
   "source": [
    "results['5. lr_kb15'] = (round(metrics.accuracy_score(y_test, kb15_pred_test),4), \n",
    "                           round(metrics.f1_score(y_test, kb15_pred_test),4),\n",
    "                     round(metrics.recall_score(y_test, kb15_pred_test),4))\n",
    "results"
   ]
  },
  {
   "cell_type": "markdown",
   "metadata": {},
   "source": [
    "### 6. Logistic Regression with K best 20"
   ]
  },
  {
   "cell_type": "code",
   "execution_count": 59,
   "metadata": {},
   "outputs": [
    {
     "name": "stdout",
     "output_type": "stream",
     "text": [
      "Test Accuracy score:  0.7088607594936709\n",
      "Train Accuracy score:  0.818359375\n",
      "Test F1 score:  0.4102564102564102\n",
      "Train F1 score:  0.8208092485549134\n",
      "Test Recall score:  0.5333333333333333\n",
      "Train Recall score:  0.83203125\n"
     ]
    }
   ],
   "source": [
    "kb20_lr = LogisticRegression(solver='liblinear')\n",
    "\n",
    "kb20_lr.fit(X_train_kb20, y_train_up)\n",
    "\n",
    "\n",
    "kb20_pred_test = kb20_lr.predict(X_test_kb20)\n",
    "kb20_pred_train = kb20_lr.predict(X_train_kb20)\n",
    "\n",
    "\n",
    "# checking accuracy\n",
    "print('Test Accuracy score: ', metrics.accuracy_score(y_test, kb20_pred_test))\n",
    "print('Train Accuracy score: ', metrics.accuracy_score(y_train_up, kb20_pred_train))\n",
    "\n",
    "# checking accuracy\n",
    "print('Test F1 score: ', metrics.f1_score(y_test, kb20_pred_test))\n",
    "print('Train F1 score: ', metrics.f1_score(y_train_up, kb20_pred_train))\n",
    "\n",
    "# checking accuracy\n",
    "print('Test Recall score: ', metrics.recall_score(y_test, kb20_pred_test))\n",
    "print('Train Recall score: ', metrics.recall_score(y_train_up, kb20_pred_train))"
   ]
  },
  {
   "cell_type": "code",
   "execution_count": 60,
   "metadata": {},
   "outputs": [
    {
     "data": {
      "text/plain": [
       "{'1.lr_baseline': (0.8101, 0.3478, 0.2667),\n",
       " '2. lr_upsampled': (0.7215, 0.4762, 1),\n",
       " '3.  lr_upscaled': (0.7215, 0.3529, 0.5547),\n",
       " '4. lr_kb10': (0.7215, 0.45, 0.6),\n",
       " '5. lr_kb15': (0.6835, 0.3902, 0.5333),\n",
       " '6.lr_kb20': (0.7089, 0.4103, 0.5333)}"
      ]
     },
     "execution_count": 60,
     "metadata": {},
     "output_type": "execute_result"
    }
   ],
   "source": [
    "results['6.lr_kb20'] = (round(metrics.accuracy_score(y_test, kb20_pred_test),4), \n",
    "                           round(metrics.f1_score(y_test, kb20_pred_test),4),\n",
    "                     round(metrics.recall_score(y_test, kb20_pred_test),4))\n",
    "results"
   ]
  },
  {
   "cell_type": "markdown",
   "metadata": {},
   "source": [
    "### 7. Logistic Regression with K best 25"
   ]
  },
  {
   "cell_type": "code",
   "execution_count": 61,
   "metadata": {},
   "outputs": [
    {
     "name": "stdout",
     "output_type": "stream",
     "text": [
      "Test Accuracy score:  0.6582278481012658\n",
      "Train Accuracy score:  0.83984375\n",
      "Test F1 score:  0.37209302325581395\n",
      "Train F1 score:  0.8416988416988418\n",
      "Test Recall score:  0.5333333333333333\n",
      "Train Recall score:  0.8515625\n"
     ]
    }
   ],
   "source": [
    "kb25_lr = LogisticRegression(solver='liblinear')\n",
    "\n",
    "kb25_lr.fit(X_train_kb25, y_train_up)\n",
    "\n",
    "\n",
    "kb25_pred_test = kb25_lr.predict(X_test_kb25)\n",
    "kb25_pred_train = kb25_lr.predict(X_train_kb25)\n",
    "\n",
    "\n",
    "# checking accuracy\n",
    "print('Test Accuracy score: ', metrics.accuracy_score(y_test, kb25_pred_test))\n",
    "print('Train Accuracy score: ', metrics.accuracy_score(y_train_up, kb25_pred_train))\n",
    "\n",
    "# checking accuracy\n",
    "print('Test F1 score: ', metrics.f1_score(y_test, kb25_pred_test))\n",
    "print('Train F1 score: ', metrics.f1_score(y_train_up, kb25_pred_train))\n",
    "\n",
    "# checking accuracy\n",
    "print('Test Recall score: ', metrics.recall_score(y_test, kb25_pred_test))\n",
    "print('Train Recall score: ', metrics.recall_score(y_train_up, kb25_pred_train))"
   ]
  },
  {
   "cell_type": "code",
   "execution_count": 62,
   "metadata": {},
   "outputs": [
    {
     "data": {
      "text/plain": [
       "{'1.lr_baseline': (0.8101, 0.3478, 0.2667),\n",
       " '2. lr_upsampled': (0.7215, 0.4762, 1),\n",
       " '3.  lr_upscaled': (0.7215, 0.3529, 0.5547),\n",
       " '4. lr_kb10': (0.7215, 0.45, 0.6),\n",
       " '5. lr_kb15': (0.6835, 0.3902, 0.5333),\n",
       " '6.lr_kb20': (0.7089, 0.4103, 0.5333),\n",
       " '7. lr_kb25': (0.6582, 0.3721, 0.5333)}"
      ]
     },
     "execution_count": 62,
     "metadata": {},
     "output_type": "execute_result"
    }
   ],
   "source": [
    "results['7. lr_kb25'] = (round(metrics.accuracy_score(y_test, kb25_pred_test),4), \n",
    "                           round(metrics.f1_score(y_test, kb25_pred_test),4),\n",
    "                     round(metrics.recall_score(y_test, kb25_pred_test),4))\n",
    "results"
   ]
  },
  {
   "cell_type": "markdown",
   "metadata": {},
   "source": [
    "### 8. Logistic Regression with K best 30"
   ]
  },
  {
   "cell_type": "code",
   "execution_count": 63,
   "metadata": {},
   "outputs": [
    {
     "name": "stdout",
     "output_type": "stream",
     "text": [
      "Test Accuracy score:  0.6962025316455697\n",
      "Train Accuracy score:  0.849609375\n",
      "Test F1 score:  0.4\n",
      "Train F1 score:  0.8493150684931506\n",
      "Test Recall score:  0.5333333333333333\n",
      "Train Recal score:  0.84765625\n"
     ]
    }
   ],
   "source": [
    "kb30_lr = LogisticRegression(solver='liblinear')\n",
    "\n",
    "kb30_lr.fit(X_train_kb30, y_train_up)\n",
    "\n",
    "\n",
    "kb30_pred_test = kb30_lr.predict(X_test_kb30)\n",
    "kb30_pred_train = kb30_lr.predict(X_train_kb30)\n",
    "\n",
    "\n",
    "# checking accuracy\n",
    "print('Test Accuracy score: ', metrics.accuracy_score(y_test, kb30_pred_test))\n",
    "print('Train Accuracy score: ', metrics.accuracy_score(y_train_up, kb30_pred_train))\n",
    "\n",
    "# checking accuracy\n",
    "print('Test F1 score: ', metrics.f1_score(y_test, kb30_pred_test))\n",
    "print('Train F1 score: ', metrics.f1_score(y_train_up, kb30_pred_train))\n",
    "\n",
    "# checking accuracy\n",
    "print('Test Recall score: ', metrics.recall_score(y_test, kb30_pred_test))\n",
    "print('Train Recal score: ', metrics.recall_score(y_train_up, kb30_pred_train))"
   ]
  },
  {
   "cell_type": "code",
   "execution_count": 64,
   "metadata": {},
   "outputs": [
    {
     "data": {
      "text/plain": [
       "{'1.lr_baseline': (0.8101, 0.3478, 0.2667),\n",
       " '2. lr_upsampled': (0.7215, 0.4762, 1),\n",
       " '3.  lr_upscaled': (0.7215, 0.3529, 0.5547),\n",
       " '4. lr_kb10': (0.7215, 0.45, 0.6),\n",
       " '5. lr_kb15': (0.6835, 0.3902, 0.5333),\n",
       " '6.lr_kb20': (0.7089, 0.4103, 0.5333),\n",
       " '7. lr_kb25': (0.6582, 0.3721, 0.5333),\n",
       " '8. lr_kb30': (0.6962, 0.4, 0.5333)}"
      ]
     },
     "execution_count": 64,
     "metadata": {},
     "output_type": "execute_result"
    }
   ],
   "source": [
    "results['8. lr_kb30'] = (round(metrics.accuracy_score(y_test, kb30_pred_test),4), \n",
    "                           round(metrics.f1_score(y_test, kb30_pred_test),4),\n",
    "                     round(metrics.recall_score(y_test, kb30_pred_test),4))\n",
    "results"
   ]
  },
  {
   "cell_type": "markdown",
   "metadata": {},
   "source": [
    "### 9. Logistic Regression with K best 35"
   ]
  },
  {
   "cell_type": "code",
   "execution_count": 65,
   "metadata": {},
   "outputs": [
    {
     "name": "stdout",
     "output_type": "stream",
     "text": [
      "Test Accuracy score:  0.7341772151898734\n",
      "Train Accuracy score:  0.84765625\n",
      "Test F1 score:  0.5116279069767441\n",
      "Train F1 score:  0.84765625\n",
      "Test Recall score:  0.7333333333333333\n",
      "Train Recall score:  0.84765625\n"
     ]
    }
   ],
   "source": [
    "kb35_lr = LogisticRegression(solver='liblinear')\n",
    "\n",
    "kb35_lr.fit(X_train_kb35, y_train_up)\n",
    "\n",
    "\n",
    "kb35_pred_test = kb35_lr.predict(X_test_kb35)\n",
    "kb35_pred_train = kb35_lr.predict(X_train_kb35)\n",
    "\n",
    "\n",
    "# checking accuracy\n",
    "print('Test Accuracy score: ', metrics.accuracy_score(y_test, kb35_pred_test))\n",
    "print('Train Accuracy score: ', metrics.accuracy_score(y_train_up, kb35_pred_train))\n",
    "\n",
    "# checking accuracy\n",
    "print('Test F1 score: ', metrics.f1_score(y_test, kb35_pred_test))\n",
    "print('Train F1 score: ', metrics.f1_score(y_train_up, kb35_pred_train))\n",
    "\n",
    "# checking accuracy\n",
    "print('Test Recall score: ', metrics.recall_score(y_test, kb35_pred_test))\n",
    "print('Train Recall score: ', metrics.recall_score(y_train_up, kb35_pred_train))"
   ]
  },
  {
   "cell_type": "code",
   "execution_count": 66,
   "metadata": {},
   "outputs": [
    {
     "data": {
      "text/plain": [
       "{'1.lr_baseline': (0.8101, 0.3478, 0.2667),\n",
       " '2. lr_upsampled': (0.7215, 0.4762, 1),\n",
       " '3.  lr_upscaled': (0.7215, 0.3529, 0.5547),\n",
       " '4. lr_kb10': (0.7215, 0.45, 0.6),\n",
       " '5. lr_kb15': (0.6835, 0.3902, 0.5333),\n",
       " '6.lr_kb20': (0.7089, 0.4103, 0.5333),\n",
       " '7. lr_kb25': (0.6582, 0.3721, 0.5333),\n",
       " '8. lr_kb30': (0.6962, 0.4, 0.5333),\n",
       " '9. lr_kb35': (0.7342, 0.5116, 0.7333)}"
      ]
     },
     "execution_count": 66,
     "metadata": {},
     "output_type": "execute_result"
    }
   ],
   "source": [
    "results['9. lr_kb35'] = (round(metrics.accuracy_score(y_test, kb35_pred_test),4), \n",
    "                           round(metrics.f1_score(y_test, kb35_pred_test),4),\n",
    "                     round(metrics.recall_score(y_test, kb35_pred_test),4))\n",
    "results"
   ]
  },
  {
   "cell_type": "markdown",
   "metadata": {},
   "source": [
    "### 10.  K best for the Upsampled and  Scaled Train Set -KNN1"
   ]
  },
  {
   "cell_type": "markdown",
   "metadata": {},
   "source": [
    "#### Optimal K for KNN"
   ]
  },
  {
   "cell_type": "code",
   "execution_count": 67,
   "metadata": {},
   "outputs": [],
   "source": [
    "#fumction to find the position of the maximum value in a list\n",
    "def max_value(l):\n",
    "    max_val = max(l)\n",
    "    max_idx = l.index(max_val)\n",
    "    return max_idx, max_val"
   ]
  },
  {
   "cell_type": "code",
   "execution_count": 68,
   "metadata": {},
   "outputs": [
    {
     "name": "stdout",
     "output_type": "stream",
     "text": [
      "9 0.6455696202531646\n"
     ]
    }
   ],
   "source": [
    "#create a container to track the scores\n",
    "k_scores1=[]\n",
    "\n",
    "#set up a loop to fit the model using a different values of K\n",
    "\n",
    "k_range = list(range(10, 35))\n",
    "for k in k_range:\n",
    "    knn1 = KNeighborsClassifier(n_neighbors=k)\n",
    "    #fit the model and get the score on a evaluation metric\n",
    "    knn1.fit(X_train_scaleu, y_train_up)\n",
    "    y_pred = knn1.predict(X_test_scale)\n",
    "    \n",
    "    acc2 = metrics.accuracy_score(y_test, y_pred)\n",
    "    \n",
    "    k_scores1.append(acc2)\n",
    "\n",
    "#use the max_value function to find the K value that gives you the best accuracy pred \n",
    "idx, val = max_value(k_scores1)\n",
    "    \n",
    "print(idx+1, val)"
   ]
  },
  {
   "cell_type": "code",
   "execution_count": 69,
   "metadata": {},
   "outputs": [
    {
     "name": "stdout",
     "output_type": "stream",
     "text": [
      "Test Accuracy score:  0.569620253164557\n",
      "Train Accuracy score:  0.78125\n",
      "Test F1 score:  0.32\n",
      "Train F1 score:  0.801418439716312\n",
      "Test Recall score:  0.5333333333333333\n",
      "Train Recall score:  0.8828125\n"
     ]
    }
   ],
   "source": [
    "knn = KNeighborsClassifier(n_neighbors=11)\n",
    "\n",
    "knn.fit(X_train_scaleu, y_train_up)\n",
    "\n",
    "y_pred_test =knn.predict(X_test_scale)\n",
    "y_pred_train = knn.predict(X_train_scaleu)\n",
    "\n",
    "# checking accuracy\n",
    "print('Test Accuracy score: ', metrics.accuracy_score(y_test, y_pred_test))\n",
    "print('Train Accuracy score: ', metrics.accuracy_score(y_train_up, y_pred_train))\n",
    "\n",
    "# checking accuracy\n",
    "print('Test F1 score: ', metrics.f1_score(y_test, y_pred_test))\n",
    "print('Train F1 score: ', metrics.f1_score(y_train_up, y_pred_train))\n",
    "\n",
    "# checking accuracy\n",
    "print('Test Recall score: ', metrics.recall_score(y_test, y_pred_test))\n",
    "print('Train Recall score: ', metrics.recall_score(y_train_up, y_pred_train))"
   ]
  },
  {
   "cell_type": "code",
   "execution_count": 70,
   "metadata": {},
   "outputs": [
    {
     "data": {
      "text/plain": [
       "{'1.lr_baseline': (0.8101, 0.3478, 0.2667),\n",
       " '2. lr_upsampled': (0.7215, 0.4762, 1),\n",
       " '3.  lr_upscaled': (0.7215, 0.3529, 0.5547),\n",
       " '4. lr_kb10': (0.7215, 0.45, 0.6),\n",
       " '5. lr_kb15': (0.6835, 0.3902, 0.5333),\n",
       " '6.lr_kb20': (0.7089, 0.4103, 0.5333),\n",
       " '7. lr_kb25': (0.6582, 0.3721, 0.5333),\n",
       " '8. lr_kb30': (0.6962, 0.4, 0.5333),\n",
       " '9. lr_kb35': (0.7342, 0.5116, 0.7333),\n",
       " '10. knn_upscaled': (0.5696, 0.32, 0.5333)}"
      ]
     },
     "execution_count": 70,
     "metadata": {},
     "output_type": "execute_result"
    }
   ],
   "source": [
    "results['10. knn_upscaled'] = (round(metrics.accuracy_score(y_test, y_pred_test),4), \n",
    "                              round(metrics.f1_score(y_test, y_pred_test),4),\n",
    "                          round(metrics.recall_score(y_test, y_pred_test),4))\n",
    "results"
   ]
  },
  {
   "cell_type": "markdown",
   "metadata": {},
   "source": [
    "### 11. K best for the Imbalanced and  Scaled Train Set - KNN2"
   ]
  },
  {
   "cell_type": "code",
   "execution_count": 71,
   "metadata": {},
   "outputs": [
    {
     "name": "stdout",
     "output_type": "stream",
     "text": [
      "1 0.810126582278481\n"
     ]
    }
   ],
   "source": [
    "#create a container to track the scores\n",
    "k_scores2=[]\n",
    "\n",
    "#set up a loop to fit the model using a different values of K\n",
    "\n",
    "k_range = list(range(10, 35))\n",
    "for k in k_range:\n",
    "    knn2 = KNeighborsClassifier(n_neighbors=k)\n",
    "    #fit the model and get the score on a evaluation metric\n",
    "    knn2.fit(X_train_scaleI, y_train)\n",
    "    y_pred= knn2.predict(X_test_scale)\n",
    "    \n",
    "    acc2 = metrics.accuracy_score(y_test, y_pred)\n",
    "    \n",
    "    k_scores2.append(acc2)\n",
    "\n",
    "#use the max_value function to find the K value that gives you the best accuracy pred \n",
    "idx, val = max_value(k_scores2)\n",
    "    \n",
    "print(idx+1, val)"
   ]
  },
  {
   "cell_type": "code",
   "execution_count": 72,
   "metadata": {},
   "outputs": [
    {
     "name": "stdout",
     "output_type": "stream",
     "text": [
      "Test Accuracy score:  0.6582278481012658\n",
      "Train Accuracy score:  1.0\n",
      "Test F1 score:  0.2285714285714286\n",
      "Train F1 score:  1.0\n",
      "Test Recall score:  0.26666666666666666\n",
      "Train Recall; score:  1.0\n"
     ]
    }
   ],
   "source": [
    "knn2 = KNeighborsClassifier(n_neighbors=1)\n",
    "\n",
    "knn2.fit(X_train_scaleI, y_train)\n",
    "\n",
    "y_pred_test =knn2.predict(X_test_scale)\n",
    "y_pred_train = knn2.predict(X_train_scaleI)\n",
    "\n",
    "# checking accuracy\n",
    "print('Test Accuracy score: ', metrics.accuracy_score(y_test, y_pred_test))\n",
    "print('Train Accuracy score: ', metrics.accuracy_score(y_train, y_pred_train))\n",
    "\n",
    "# checking accuracy\n",
    "print('Test F1 score: ', metrics.f1_score(y_test, y_pred_test))\n",
    "print('Train F1 score: ', metrics.f1_score(y_train, y_pred_train))\n",
    "\n",
    "# checking accuracy\n",
    "print('Test Recall score: ', metrics.recall_score(y_test, y_pred_test))\n",
    "print('Train Recall; score: ', metrics.recall_score(y_train, y_pred_train))"
   ]
  },
  {
   "cell_type": "code",
   "execution_count": 73,
   "metadata": {},
   "outputs": [
    {
     "data": {
      "text/plain": [
       "{'1.lr_baseline': (0.8101, 0.3478, 0.2667),\n",
       " '2. lr_upsampled': (0.7215, 0.4762, 1),\n",
       " '3.  lr_upscaled': (0.7215, 0.3529, 0.5547),\n",
       " '4. lr_kb10': (0.7215, 0.45, 0.6),\n",
       " '5. lr_kb15': (0.6835, 0.3902, 0.5333),\n",
       " '6.lr_kb20': (0.7089, 0.4103, 0.5333),\n",
       " '7. lr_kb25': (0.6582, 0.3721, 0.5333),\n",
       " '8. lr_kb30': (0.6962, 0.4, 0.5333),\n",
       " '9. lr_kb35': (0.7342, 0.5116, 0.7333),\n",
       " '10. knn_upscaled': (0.5696, 0.32, 0.5333),\n",
       " '11. knn2_imbscaled': (0.6582, 0.2667, 0.2667)}"
      ]
     },
     "execution_count": 73,
     "metadata": {},
     "output_type": "execute_result"
    }
   ],
   "source": [
    "results['11. knn2_imbscaled'] = (round(metrics.accuracy_score(y_test, y_pred_test),4), \n",
    "                             round(metrics.recall_score(y_test, y_pred_test),4),\n",
    "                            round(metrics.recall_score(y_test, y_pred_test),4))\n",
    "results"
   ]
  },
  {
   "cell_type": "code",
   "execution_count": null,
   "metadata": {},
   "outputs": [],
   "source": []
  },
  {
   "cell_type": "markdown",
   "metadata": {},
   "source": [
    "### 12. KNN for the Kbest25"
   ]
  },
  {
   "cell_type": "code",
   "execution_count": 74,
   "metadata": {},
   "outputs": [
    {
     "name": "stdout",
     "output_type": "stream",
     "text": [
      "Test Accuracy score:  0.189873417721519\n",
      "Train Accuracy score:  0.841796875\n",
      "Test F1 score:  0.3191489361702127\n",
      "Train F1 score:  0.8480300187617261\n",
      "Test Recall score:  1.0\n",
      "Train Recall score:  0.8828125\n"
     ]
    }
   ],
   "source": [
    "#Scaling upsampled data\n",
    "scaler3 = MinMaxScaler()  \n",
    "scaler3.fit(X_train_kb25)\n",
    "\n",
    "X_train_kb25scale = scaler3.transform(X_train_kb25) \n",
    "\n",
    "knn3 = KNeighborsClassifier(n_neighbors=11)\n",
    "\n",
    "knn3.fit(X_train_kb25scale, y_train_up)\n",
    "\n",
    "y_pred_test =knn3.predict(X_test_kb25)\n",
    "y_pred_train = knn3.predict(X_train_kb25scale)\n",
    "\n",
    "# checking accuracy\n",
    "print('Test Accuracy score: ', metrics.accuracy_score(y_test, y_pred_test))\n",
    "print('Train Accuracy score: ', metrics.accuracy_score(y_train_up, y_pred_train))\n",
    "\n",
    "# checking accuracy\n",
    "print('Test F1 score: ', metrics.f1_score(y_test, y_pred_test))\n",
    "print('Train F1 score: ', metrics.f1_score(y_train_up, y_pred_train))\n",
    "\n",
    "# checking accuracy\n",
    "print('Test Recall score: ', metrics.recall_score(y_test, y_pred_test))\n",
    "print('Train Recall score: ', metrics.recall_score(y_train_up, y_pred_train))"
   ]
  },
  {
   "cell_type": "code",
   "execution_count": 75,
   "metadata": {},
   "outputs": [
    {
     "data": {
      "text/plain": [
       "{'1.lr_baseline': (0.8101, 0.3478, 0.2667),\n",
       " '2. lr_upsampled': (0.7215, 0.4762, 1),\n",
       " '3.  lr_upscaled': (0.7215, 0.3529, 0.5547),\n",
       " '4. lr_kb10': (0.7215, 0.45, 0.6),\n",
       " '5. lr_kb15': (0.6835, 0.3902, 0.5333),\n",
       " '6.lr_kb20': (0.7089, 0.4103, 0.5333),\n",
       " '7. lr_kb25': (0.6582, 0.3721, 0.5333),\n",
       " '8. lr_kb30': (0.6962, 0.4, 0.5333),\n",
       " '9. lr_kb35': (0.7342, 0.5116, 0.7333),\n",
       " '10. knn_upscaled': (0.5696, 0.32, 0.5333),\n",
       " '11. knn2_imbscaled': (0.6582, 0.2667, 0.2667),\n",
       " '12. knn3_kb25': (0.1899, 0.3191, 1.0)}"
      ]
     },
     "execution_count": 75,
     "metadata": {},
     "output_type": "execute_result"
    }
   ],
   "source": [
    "results['12. knn3_kb25'] = (round(metrics.accuracy_score(y_test, y_pred_test),4), \n",
    "                             round(metrics.f1_score(y_test, y_pred_test),4),\n",
    "                            round(metrics.recall_score(y_test, y_pred_test),4))\n",
    "results"
   ]
  },
  {
   "cell_type": "code",
   "execution_count": 76,
   "metadata": {},
   "outputs": [
    {
     "data": {
      "image/png": "[encoded data removed]",
      "text/plain": [
       "<Figure size 432x288 with 2 Axes>"
      ]
     },
     "metadata": {
      "needs_background": "light"
     },
     "output_type": "display_data"
    }
   ],
   "source": [
    "from sklearn.metrics import confusion_matrix\n",
    "from sklearn.metrics import ConfusionMatrixDisplay\n",
    "\n",
    "cm = confusion_matrix(y_test, y_pred_test)\n",
    "\n",
    "cm_display = ConfusionMatrixDisplay(cm).plot()"
   ]
  },
  {
   "cell_type": "markdown",
   "metadata": {},
   "source": [
    "### 13. KNN for Kbest 30"
   ]
  },
  {
   "cell_type": "code",
   "execution_count": 77,
   "metadata": {},
   "outputs": [
    {
     "name": "stdout",
     "output_type": "stream",
     "text": [
      "Test Accuracy score:  0.21518987341772153\n",
      "Train Accuracy score:  0.833984375\n",
      "Test F1 score:  0.32608695652173914\n",
      "Train F1 score:  0.8428835489833642\n",
      "Test Recall score:  1.0\n",
      "Train Recall score:  0.890625\n"
     ]
    }
   ],
   "source": [
    "#Scaling upsampled data\n",
    "scaler4 = MinMaxScaler()  \n",
    "scaler4.fit(X_train_kb30)\n",
    "\n",
    "X_train_kb30scale = scaler4.transform(X_train_kb30)\n",
    "                                     \n",
    "knn4 = KNeighborsClassifier(n_neighbors=11)\n",
    "\n",
    "knn4.fit(X_train_kb30scale, y_train_up)\n",
    "\n",
    "y_pred_test =knn4.predict(X_test_kb30)\n",
    "y_pred_train = knn4.predict(X_train_kb30scale)\n",
    "\n",
    "# checking accuracy\n",
    "print('Test Accuracy score: ', metrics.accuracy_score(y_test, y_pred_test))\n",
    "print('Train Accuracy score: ', metrics.accuracy_score(y_train_up, y_pred_train))\n",
    "\n",
    "# checking accuracy\n",
    "print('Test F1 score: ', metrics.f1_score(y_test, y_pred_test))\n",
    "print('Train F1 score: ', metrics.f1_score(y_train_up, y_pred_train))\n",
    "\n",
    "# checking accuracy\n",
    "print('Test Recall score: ', metrics.recall_score(y_test, y_pred_test))\n",
    "print('Train Recall score: ', metrics.recall_score(y_train_up, y_pred_train))"
   ]
  },
  {
   "cell_type": "code",
   "execution_count": 78,
   "metadata": {},
   "outputs": [
    {
     "data": {
      "text/plain": [
       "{'1.lr_baseline': (0.8101, 0.3478, 0.2667),\n",
       " '2. lr_upsampled': (0.7215, 0.4762, 1),\n",
       " '3.  lr_upscaled': (0.7215, 0.3529, 0.5547),\n",
       " '4. lr_kb10': (0.7215, 0.45, 0.6),\n",
       " '5. lr_kb15': (0.6835, 0.3902, 0.5333),\n",
       " '6.lr_kb20': (0.7089, 0.4103, 0.5333),\n",
       " '7. lr_kb25': (0.6582, 0.3721, 0.5333),\n",
       " '8. lr_kb30': (0.6962, 0.4, 0.5333),\n",
       " '9. lr_kb35': (0.7342, 0.5116, 0.7333),\n",
       " '10. knn_upscaled': (0.5696, 0.32, 0.5333),\n",
       " '11. knn2_imbscaled': (0.6582, 0.2667, 0.2667),\n",
       " '12. knn3_kb25': (0.1899, 0.3191, 1.0),\n",
       " '13. knn4_kb30': (0.2152, 1.0, 1.0)}"
      ]
     },
     "execution_count": 78,
     "metadata": {},
     "output_type": "execute_result"
    }
   ],
   "source": [
    "results['13. knn4_kb30'] = (round(metrics.accuracy_score(y_test, y_pred_test),4), \n",
    "                             round(metrics.recall_score(y_test, y_pred_test),4),\n",
    "                            round(metrics.recall_score(y_test, y_pred_test),4))\n",
    "results"
   ]
  },
  {
   "cell_type": "markdown",
   "metadata": {},
   "source": [
    "### 14.Decision Tree Classifier"
   ]
  },
  {
   "cell_type": "code",
   "execution_count": 79,
   "metadata": {},
   "outputs": [
    {
     "name": "stdout",
     "output_type": "stream",
     "text": [
      "Test Accuracy score:  0.810126582278481\n",
      "Train Accuracy score:  0.99609375\n",
      "Test F1 score:  0.4827586206896552\n",
      "Train F1 score:  0.9961089494163424\n",
      "Test Recall score:  0.4666666666666667\n",
      "Train Recall score:  1.0\n"
     ]
    }
   ],
   "source": [
    "dtc1 = DecisionTreeClassifier(max_depth=10)\n",
    "\n",
    "#Train Decision Tree Classifier\n",
    "dtc1.fit(X_train_up,y_train_up)\n",
    "\n",
    "#predict the training set\n",
    "y_pred_train = dtc1.predict(X_train_up)\n",
    "\n",
    "#Predict the response for test dataset\n",
    "y_pred_test = dtc1.predict(X_test1)\n",
    "\n",
    "# Model Accuracy, how often is the classifier correct?\n",
    "# checking accuracy\n",
    "print('Test Accuracy score: ', metrics.accuracy_score(y_test, y_pred_test))\n",
    "print('Train Accuracy score: ', metrics.accuracy_score(y_train_up, y_pred_train))\n",
    "\n",
    "# checking accuracy\n",
    "print('Test F1 score: ', metrics.f1_score(y_test, y_pred_test))\n",
    "print('Train F1 score: ', metrics.f1_score(y_train_up, y_pred_train))\n",
    "\n",
    "# checking accuracy\n",
    "print('Test Recall score: ', metrics.recall_score(y_test, y_pred_test))\n",
    "print('Train Recall score: ', metrics.recall_score(y_train_up, y_pred_train))"
   ]
  },
  {
   "cell_type": "code",
   "execution_count": 80,
   "metadata": {},
   "outputs": [
    {
     "data": {
      "text/plain": [
       "{'1.lr_baseline': (0.8101, 0.3478, 0.2667),\n",
       " '2. lr_upsampled': (0.7215, 0.4762, 1),\n",
       " '3.  lr_upscaled': (0.7215, 0.3529, 0.5547),\n",
       " '4. lr_kb10': (0.7215, 0.45, 0.6),\n",
       " '5. lr_kb15': (0.6835, 0.3902, 0.5333),\n",
       " '6.lr_kb20': (0.7089, 0.4103, 0.5333),\n",
       " '7. lr_kb25': (0.6582, 0.3721, 0.5333),\n",
       " '8. lr_kb30': (0.6962, 0.4, 0.5333),\n",
       " '9. lr_kb35': (0.7342, 0.5116, 0.7333),\n",
       " '10. knn_upscaled': (0.5696, 0.32, 0.5333),\n",
       " '11. knn2_imbscaled': (0.6582, 0.2667, 0.2667),\n",
       " '12. knn3_kb25': (0.1899, 0.3191, 1.0),\n",
       " '13. knn4_kb30': (0.2152, 1.0, 1.0),\n",
       " '14. dtc1_imbalanced': (0.8101, 0.4828, 0.4667)}"
      ]
     },
     "execution_count": 80,
     "metadata": {},
     "output_type": "execute_result"
    }
   ],
   "source": [
    "results['14. dtc1_imbalanced'] = (round(metrics.accuracy_score(y_test, y_pred_test),4), \n",
    "                             round(metrics.f1_score(y_test, y_pred_test),4), \n",
    "                             round(metrics.recall_score(y_test, y_pred_test),4))\n",
    "results"
   ]
  },
  {
   "cell_type": "code",
   "execution_count": 81,
   "metadata": {},
   "outputs": [
    {
     "data": {
      "image/png": "[encoded data removed]",
      "text/plain": [
       "<Figure size 432x288 with 2 Axes>"
      ]
     },
     "metadata": {
      "needs_background": "light"
     },
     "output_type": "display_data"
    }
   ],
   "source": [
    "from sklearn.metrics import confusion_matrix\n",
    "from sklearn.metrics import ConfusionMatrixDisplay\n",
    "\n",
    "cm = confusion_matrix(y_test, y_pred_test)\n",
    "\n",
    "cm_display = ConfusionMatrixDisplay(cm).plot()"
   ]
  },
  {
   "cell_type": "markdown",
   "metadata": {},
   "source": [
    "# Final Model"
   ]
  },
  {
   "cell_type": "code",
   "execution_count": 82,
   "metadata": {
    "scrolled": true
   },
   "outputs": [
    {
     "name": "stdout",
     "output_type": "stream",
     "text": [
      "Test Accuracy score:  0.7215189873417721\n",
      "Train Accuracy score:  0.783203125\n",
      "Test F1 score:  0.45\n",
      "Train F1 score:  0.7730061349693251\n",
      "Test Recall score:  0.6\n",
      "Train Recall score:  0.73828125\n"
     ]
    }
   ],
   "source": [
    "kb10_lr = LogisticRegression(solver='liblinear')\n",
    "\n",
    "\n",
    "kb10_lr.fit(X_train_kb10, y_train_up)\n",
    "\n",
    "\n",
    "kb10_pred_test = kb10_lr.predict(X_test_kb10)\n",
    "kb10_pred_train = kb10_lr.predict(X_train_kb10)\n",
    "\n",
    "\n",
    "# checking accuracy\n",
    "print('Test Accuracy score: ', metrics.accuracy_score(y_test, kb10_pred_test))\n",
    "print('Train Accuracy score: ', metrics.accuracy_score(y_train_up, kb10_pred_train))\n",
    "\n",
    "# checking accuracy\n",
    "print('Test F1 score: ', metrics.f1_score(y_test, kb10_pred_test))\n",
    "print('Train F1 score: ', metrics.f1_score(y_train_up, kb10_pred_train))\n",
    "\n",
    "# checking accuracy\n",
    "print('Test Recall score: ', metrics.recall_score(y_test, kb10_pred_test))\n",
    "print('Train Recall score: ', metrics.recall_score(y_train_up, kb10_pred_train))"
   ]
  },
  {
   "cell_type": "code",
   "execution_count": 83,
   "metadata": {
    "scrolled": true
   },
   "outputs": [
    {
     "data": {
      "text/plain": [
       "[('sex', -1.8299403461784516),\n",
       " ('address', 1.3553367588098806),\n",
       " ('schoolsup', -0.6057182514692955),\n",
       " ('famsup', -0.4798831204698834),\n",
       " ('academic_support', -0.012217246990408537),\n",
       " ('idle', 0.032808738995829145),\n",
       " ('studytime_3', -0.7788959837136527),\n",
       " ('goout_3', -0.12193580639163415),\n",
       " ('goout_4', 1.6601721730040024),\n",
       " ('goout_5', 1.5310299945277592)]"
      ]
     },
     "execution_count": 83,
     "metadata": {},
     "output_type": "execute_result"
    }
   ],
   "source": [
    "features = list(X_train_kb10.columns)\n",
    "coeffs = (kb10_lr.coef_)[0].tolist()\n",
    "feat_coeff=list(zip(features, coeffs))\n",
    "feat_coeff"
   ]
  },
  {
   "cell_type": "markdown",
   "metadata": {},
   "source": [
    "**Interpretation of coefficients**\n",
    "\n",
    "1. **sex:** -1.62 is interpreted as the expected decrease in log odds for a female student being a heavy drinker. The odds ratio here is 1, which suggests that the chances of a female student being a heavy drinker is less likely to occur\n",
    "2. **absences:** 0.079 is interpreted as the expected change in log odds for a one- unit increase in absences\n",
    "3. **G1:** -0.19 is interpreted as the expected decrease in log odds of a heavy drinker\n",
    "4. **G2:** 0.027 is interpreted as the expected increease in log odds of a heavy drinker\n",
    "5. **G3:** -0.01 is interpreted as the expected decrease in log odds of heavy drinker\n",
    "6. **idle:** 0.028 is interpreted as the expected increease in log odds of a student being a heavy drinker\n",
    "7. **grade_avg:** -0.039 is interpreted as the expected decrease in log odds of a student being a heavy drinker\n",
    "8. **goout_2:** -0.65 is interpreted as the expected decrease in log odds of a student being a heavy drinker\n",
    "9. **goout_3:** -0.57 is interpreted as the expected decrease in log odds of a student being a heavy drinker\n",
    "10. **goout_5:** 1.05 is interpreted as the expected increase in log odds of a student being a heavy drinker"
   ]
  },
  {
   "cell_type": "code",
   "execution_count": 84,
   "metadata": {},
   "outputs": [
    {
     "data": {
      "text/plain": [
       "<BarContainer object of 10 artists>"
      ]
     },
     "execution_count": 84,
     "metadata": {},
     "output_type": "execute_result"
    },
    {
     "data": {
      "image/png": "[encoded data removed]",
      "text/plain": [
       "<Figure size 720x720 with 1 Axes>"
      ]
     },
     "metadata": {
      "needs_background": "light"
     },
     "output_type": "display_data"
    }
   ],
   "source": [
    "fig, ax = plt.subplots(figsize = (10,10))\n",
    "sns.set_style('darkgrid')\n",
    "plt.title('Coefficients of Model Features')\n",
    "plt.xlabel('Coefficients')\n",
    "plt.xlim(-2, 1.5)\n",
    "plt.barh(y= features, width = coeffs)\n"
   ]
  },
  {
   "cell_type": "code",
   "execution_count": 85,
   "metadata": {},
   "outputs": [
    {
     "data": {
      "text/plain": [
       "<sklearn.metrics._plot.confusion_matrix.ConfusionMatrixDisplay at 0x16935b001f0>"
      ]
     },
     "execution_count": 85,
     "metadata": {},
     "output_type": "execute_result"
    },
    {
     "data": {
      "image/png": "[encoded data removed]",
      "text/plain": [
       "<Figure size 432x288 with 2 Axes>"
      ]
     },
     "metadata": {},
     "output_type": "display_data"
    },
    {
     "data": {
      "image/png": "[encoded data removed]",
      "text/plain": [
       "<Figure size 432x288 with 2 Axes>"
      ]
     },
     "metadata": {},
     "output_type": "display_data"
    }
   ],
   "source": [
    "# from sklearn.metrics import confusion_matrix\n",
    "# from sklearn.metrics import ConfusionMatrixDisplay\n",
    "\n",
    "# cm = confusion_matrix(y_test, kb10_pred_test)\n",
    "\n",
    "# cm_display = ConfusionMatrixDisplay(cm).plot()\n",
    "# plt.savefig('images/Confusion_matrix.png')\n",
    "metrics.plot_confusion_matrix(kb10_lr, X_train_kb10, y_train_up)\n",
    "metrics.plot_confusion_matrix(kb10_lr, X_test_kb10, y_test)"
   ]
  },
  {
   "cell_type": "markdown",
   "metadata": {},
   "source": [
    "**Confusion Matrix Observation:**\n",
    "\n",
    "* True Positives : 19\n",
    "* True Negatives : 90\n",
    "* False Positives :14\n",
    "* False Negatives : 9\n",
    "\n",
    "The Recall Score of 0.6538 for this model tells us that the model predict an actual positive correctly 65% of the time."
   ]
  },
  {
   "cell_type": "code",
   "execution_count": 86,
   "metadata": {},
   "outputs": [
    {
     "data": {
      "text/plain": [
       "Index(['sex', 'age', 'address', 'schoolsup', 'famsup', 'romantic', 'stability',\n",
       "       'academic_support', 'idle', 'Mjob_5', 'reason_2', 'reason_4',\n",
       "       'traveltime_4', 'studytime_3', 'studytime_4', 'failures_3', 'famrel_2',\n",
       "       'freetime_3', 'freetime_4', 'goout_2', 'goout_3', 'goout_4', 'goout_5',\n",
       "       'health_3', 'health_5'],\n",
       "      dtype='object')"
      ]
     },
     "execution_count": 86,
     "metadata": {},
     "output_type": "execute_result"
    }
   ],
   "source": [
    "# Features of the model with the next best Recall score\n",
    "X_train_kb25.columns"
   ]
  },
  {
   "cell_type": "code",
   "execution_count": null,
   "metadata": {},
   "outputs": [],
   "source": []
  },
  {
   "cell_type": "code",
   "execution_count": null,
   "metadata": {},
   "outputs": [],
   "source": []
  },
  {
   "cell_type": "code",
   "execution_count": null,
   "metadata": {},
   "outputs": [],
   "source": []
  },
  {
   "cell_type": "code",
   "execution_count": null,
   "metadata": {},
   "outputs": [],
   "source": []
  }
 ],
 "metadata": {
  "kernelspec": {
   "display_name": "Python 3",
   "language": "python",
   "name": "python3"
  },
  "language_info": {
   "codemirror_mode": {
    "name": "ipython",
    "version": 3
   },
   "file_extension": ".py",
   "mimetype": "text/x-python",
   "name": "python",
   "nbconvert_exporter": "python",
   "pygments_lexer": "ipython3",
   "version": "3.8.5"
  }
 },
 "nbformat": 4,
 "nbformat_minor": 4
}
